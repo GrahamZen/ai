{
 "cells": [
  {
   "cell_type": "code",
   "execution_count": 175,
   "metadata": {
    "ExecuteTime": {
     "end_time": "2020-10-22T13:48:39.850253Z",
     "start_time": "2020-10-22T13:48:39.575936Z"
    }
   },
   "outputs": [],
   "source": [
    "import numpy as np\n",
    "import pandas as pd\n",
    "import random as rd\n",
    "import math\n",
    "import copy\n",
    "from scipy.io import savemat"
   ]
  },
  {
   "cell_type": "code",
   "execution_count": 158,
   "metadata": {
    "ExecuteTime": {
     "end_time": "2020-10-22T13:16:34.683223Z",
     "start_time": "2020-10-22T13:16:34.673223Z"
    },
    "run_control": {
     "marked": true
    }
   },
   "outputs": [],
   "source": [
    "def sigmoid(x):\n",
    "    mask = (x > 0)\n",
    "    positive_out = np.zeros_like(x, dtype='float64')\n",
    "    negative_out = np.zeros_like(x, dtype='float64')\n",
    "    \n",
    "    # 大于0的情况\n",
    "    positive_out = 1 / (1 + np.exp(-x, positive_out, where=mask))\n",
    "    # 清除对小于等于0元素的影响\n",
    "    positive_out[~mask] = 0\n",
    "    \n",
    "    # 小于等于0的情况\n",
    "    expX = np.exp(x,negative_out,where=~mask)\n",
    "    negative_out = expX / (1+expX)\n",
    "    # 清除对大于0元素的影响\n",
    "    negative_out[mask] = 0\n",
    "    \n",
    "    return positive_out + negative_out        \n",
    "def invSigmoid(x):\n",
    "    return [math.log(i/(1-i))for i in x]\n",
    "def sigmoid_prime(sigmoidx):\n",
    "    return np.multiply(sigmoidx,1-sigmoidx)"
   ]
  },
  {
   "cell_type": "code",
   "execution_count": null,
   "metadata": {
    "ExecuteTime": {
     "end_time": "2020-10-22T12:36:56.397408Z",
     "start_time": "2020-10-22T11:54:37.512Z"
    }
   },
   "outputs": [],
   "source": [
    "class ANN:\n",
    "    def __init__(self,sizes):\n",
    "#         输入层之外的层数,例子为1+2，layNum=3\n",
    "        self.num_layers =len(sizes)\n",
    "        self.sizes=sizes\n",
    "#         i索引W(i+1)矩阵\n",
    "        self.biases = [np.random.randn(y, 1) for y in sizes[1:]]\n",
    "        self.weights = [np.random.randn(y, x) for x, y in zip(sizes[:-1], sizes[1:])]\n",
    "        \n",
    "    def forward_pass(self,x):\n",
    "        a=np.matrix(x).transpose()\n",
    "        for w,b in zip(self.weights,self.biases):\n",
    "            z=w*a+b\n",
    "            a=sigmoid(z)\n",
    "        return float(z)\n",
    "    \n",
    "    def backPropagation(self,x,y):\n",
    "        grad_w=[np.zeros(w.shape)for w in self.weights]\n",
    "        grad_b=[np.zeros(b.shape)for b in self.biases]\n",
    "        delta=[np.zeros(b.shape)for b in self.biases]\n",
    "        a=np.matrix(x).transpose()\n",
    "        alist=[a]\n",
    "        zlist=[]\n",
    "        for w,b in zip(self.weights,self.biases):\n",
    "            z=w*a+b\n",
    "            a=sigmoid(z)\n",
    "            zlist.append(z)\n",
    "            alist.append(a)\n",
    "        alist[-1]=zlist[-1]\n",
    "        delta[-1]=(z-y).transpose()\n",
    "        for l in range(2,self.num_layers):\n",
    "            delta[-l]=np.multiply(sigmoid_prime(alist[-l]),self.weights[1-l].transpose()*delta[1-l])\n",
    "        for i in range(self.num_layers-1):\n",
    "            grad_w[i]=delta[i]*np.mat(alist[i]).transpose()\n",
    "        return grad_w, delta\n",
    "    def SGD(self,train_set,validation_set,batch_size,lr=1e-3,epochs=1e3):\n",
    "        variate=float('inf')\n",
    "        besta=None\n",
    "        for j in range(int(epochs)):\n",
    "            np.random.shuffle(train_set)\n",
    "            mini_batches = [train_set[k:k+batch_size] for k in range(0, train_set.shape[0], batch_size)]\n",
    "            for mini_batch in mini_batches:\n",
    "                self.minibatch(mini_batch, eta)\n",
    "            curVar=self.validate(validation_set)\n",
    "            if curVar<variate:\n",
    "                variate=curVar\n",
    "                besta=copy.deepcopy(self)\n",
    "            print(\"Epoch {} : {}, best : {}\".format(j,curVar,variate));\n",
    "        return besta\n",
    "    def gradient_descent(self,x,y,lr=1e-3):\n",
    "        grad_w,grad_b=self.backPropagation(x,y)\n",
    "        self.weights=[w-lr*gw for w,gw in zip(self.weights,grad_w)]\n",
    "        self.biases=[b-lr*gb for b,gb in zip(self.biases,grad_b)]\n",
    "    def train(self,train_set,lr=1):\n",
    "        for row in train_set:\n",
    "            self.gradient_descent(row[:-1],row[-1],lr)\n",
    "    def minibatch(self,batch,lr=1e-3):\n",
    "        batchsize=len(batch)\n",
    "        grad_b = [np.zeros(b.shape) for b in self.biases]\n",
    "        grad_w = [np.zeros(w.shape) for w in self.weights]\n",
    "        for row in batch:\n",
    "            delta_gw,delta_gb=self.backPropagation(row[:-1],row[-1])\n",
    "            grad_w=[gw+dgw for gw,dgw in zip(grad_w,delta_gw)]\n",
    "            grad_b=[gb+dgb for gb,dgb in zip(grad_b,delta_gb)]\n",
    "        self.weights=[w-lr/batchsize*gw for w,gw in zip(self.weights,grad_w)]\n",
    "        self.biases=[b-lr/batchsize*gb for b,gb in zip(self.biases,grad_b)]\n",
    "    def validate(self,validation_set):\n",
    "        arr=[self.forward_pass(row[:-1])for row in validation_set]\n",
    "        return sum(np.square(arr-validation_set[:,-1]))/validation_set.shape[0]\n",
    "def preprocess(dataSet):\n",
    "    dataSet.dteday=dataSet.dteday.map(date2int)\n",
    "    maxdte=float(max(dataSet.dteday))\n",
    "    dataSet.dteday=dataSet.dteday.map(lambda x:float(x)/maxdte)\n",
    "    return dataSet.values[:,1:]\n",
    "def random_choice(train_set,batchSize):\n",
    "    return train_set[np.random.randint(0,train_set.shape[0],10), :]\n",
    "def date2int(str):\n",
    "    l=[int(x) for x in str.split('/')]\n",
    "    return l[0]+l[1]*30+l[2]\n",
    "def calcVar(ds,a):\n",
    "    arr=[]\n",
    "    for i in range(ds.shape[0]):\n",
    "        arr.append(a.forward_pass(ds[i][:-1]))\n",
    "    return np.var((np.matrix(arr)-ds[:,-1]))\n",
    "def split(dataSet,proportion):\n",
    "    np.random.shuffle(dataSet)\n",
    "    train_num=int(dataSet.shape[0]*proportion)\n",
    "    return dataSet[0:train_num,:],dataSet[train_num:,:]\n",
    "def compute_eta_t(eta_min, eta_max, T_cur, Ti):\n",
    "    '''Equation (5).\n",
    "    # Arguments\n",
    "        eta_min,eta_max,T_cur,Ti are same as equation.\n",
    "    # Returns\n",
    "        eta_t\n",
    "    '''\n",
    "    pi = np.pi\n",
    "    eta_t = eta_min + 0.5 * (eta_max - eta_min) * (np.cos(pi * T_cur / Ti) + 1)\n",
    "    return eta_t"
   ]
  },
  {
   "cell_type": "code",
   "execution_count": 170,
   "metadata": {
    "ExecuteTime": {
     "end_time": "2020-10-22T13:42:50.661061Z",
     "start_time": "2020-10-22T13:42:47.422362Z"
    },
    "scrolled": true
   },
   "outputs": [
    {
     "name": "stdout",
     "output_type": "stream",
     "text": [
      "Epoch 0 : 5.184699927087171, best : 5.184699927087171\n",
      "Epoch 1 : 5.185320934696573, best : 5.184699927087171\n",
      "Epoch 2 : 5.1897861272743935, best : 5.184699927087171\n",
      "Epoch 3 : 5.188395022009575, best : 5.184699927087171\n",
      "Epoch 4 : 5.1913010611787795, best : 5.184699927087171\n",
      "Epoch 5 : 5.184654216966735, best : 5.184654216966735\n",
      "Epoch 6 : 5.185151767360343, best : 5.184654216966735\n",
      "Epoch 7 : 5.184843698738812, best : 5.184654216966735\n",
      "Epoch 8 : 5.194510669615333, best : 5.184654216966735\n",
      "Epoch 9 : 5.185382628921789, best : 5.184654216966735\n",
      "Epoch 10 : 5.184845206607574, best : 5.184654216966735\n",
      "Epoch 11 : 5.185052143691567, best : 5.184654216966735\n",
      "Epoch 12 : 5.1855402383750775, best : 5.184654216966735\n",
      "Epoch 13 : 5.184777911071453, best : 5.184654216966735\n",
      "Epoch 14 : 5.189230782612575, best : 5.184654216966735\n",
      "Epoch 15 : 5.184632527515261, best : 5.184632527515261\n",
      "Epoch 16 : 5.184717019617555, best : 5.184632527515261\n",
      "Epoch 17 : 5.18471487803163, best : 5.184632527515261\n",
      "Epoch 18 : 5.184624178622852, best : 5.184624178622852\n",
      "Epoch 19 : 5.188172908955168, best : 5.184624178622852\n",
      "Epoch 20 : 5.186222394438215, best : 5.184624178622852\n",
      "Epoch 21 : 5.184599365351984, best : 5.184599365351984\n",
      "Epoch 22 : 5.184825174196543, best : 5.184599365351984\n",
      "Epoch 23 : 5.185363709501817, best : 5.184599365351984\n",
      "Epoch 24 : 5.185233813523713, best : 5.184599365351984\n",
      "Epoch 25 : 5.184606710168963, best : 5.184599365351984\n",
      "Epoch 26 : 5.185040717151103, best : 5.184599365351984\n",
      "Epoch 27 : 5.184665515236925, best : 5.184599365351984\n",
      "Epoch 28 : 5.184583034092998, best : 5.184583034092998\n",
      "Epoch 29 : 5.185054455655918, best : 5.184583034092998\n",
      "Epoch 30 : 5.185024713887037, best : 5.184583034092998\n",
      "Epoch 31 : 5.184702477102884, best : 5.184583034092998\n",
      "Epoch 32 : 5.189981270758457, best : 5.184583034092998\n",
      "Epoch 33 : 5.1852176591771935, best : 5.184583034092998\n",
      "Epoch 34 : 5.184684554712574, best : 5.184583034092998\n",
      "Epoch 35 : 5.187777399541664, best : 5.184583034092998\n",
      "Epoch 36 : 5.185151254528392, best : 5.184583034092998\n",
      "Epoch 37 : 5.189164192103168, best : 5.184583034092998\n",
      "Epoch 38 : 5.185562454742862, best : 5.184583034092998\n",
      "Epoch 39 : 5.184561093593653, best : 5.184561093593653\n",
      "Epoch 40 : 5.184768623421467, best : 5.184561093593653\n",
      "Epoch 41 : 5.186185696899223, best : 5.184561093593653\n",
      "Epoch 42 : 5.184739654341057, best : 5.184561093593653\n",
      "Epoch 43 : 5.192341407158974, best : 5.184561093593653\n",
      "Epoch 44 : 5.1942914893677425, best : 5.184561093593653\n",
      "Epoch 45 : 5.1884877715791, best : 5.184561093593653\n",
      "Epoch 46 : 5.184604256997851, best : 5.184561093593653\n",
      "Epoch 47 : 5.191101952308795, best : 5.184561093593653\n",
      "Epoch 48 : 5.185158216489527, best : 5.184561093593653\n",
      "Epoch 49 : 5.188482481389395, best : 5.184561093593653\n",
      "Epoch 50 : 5.195187623343128, best : 5.184561093593653\n",
      "Epoch 51 : 5.184966203967734, best : 5.184561093593653\n"
     ]
    },
    {
     "ename": "KeyboardInterrupt",
     "evalue": "",
     "output_type": "error",
     "traceback": [
      "\u001b[1;31m---------------------------------------------------------------------------\u001b[0m",
      "\u001b[1;31mKeyboardInterrupt\u001b[0m                         Traceback (most recent call last)",
      "\u001b[1;32m<ipython-input-170-a7cdbb795753>\u001b[0m in \u001b[0;36m<module>\u001b[1;34m\u001b[0m\n\u001b[0;32m      5\u001b[0m \u001b[1;31m# a=ANN([inputNode,80,80,1])\u001b[0m\u001b[1;33m\u001b[0m\u001b[1;33m\u001b[0m\u001b[1;33m\u001b[0m\u001b[0m\n\u001b[0;32m      6\u001b[0m \u001b[0meta\u001b[0m\u001b[1;33m=\u001b[0m\u001b[0mlearningRate\u001b[0m\u001b[1;33m\u001b[0m\u001b[1;33m\u001b[0m\u001b[0m\n\u001b[1;32m----> 7\u001b[1;33m \u001b[0mbesta\u001b[0m \u001b[1;33m=\u001b[0m \u001b[0ma\u001b[0m\u001b[1;33m.\u001b[0m\u001b[0mSGD\u001b[0m\u001b[1;33m(\u001b[0m\u001b[0mds\u001b[0m\u001b[1;33m,\u001b[0m\u001b[0mds\u001b[0m\u001b[1;33m,\u001b[0m\u001b[1;36m50\u001b[0m\u001b[1;33m,\u001b[0m\u001b[0meta\u001b[0m\u001b[1;33m,\u001b[0m\u001b[1;36m500\u001b[0m\u001b[1;33m)\u001b[0m\u001b[1;33m\u001b[0m\u001b[1;33m\u001b[0m\u001b[0m\n\u001b[0m\u001b[0;32m      8\u001b[0m \u001b[1;31m# a.train(ds,learningRate)\u001b[0m\u001b[1;33m\u001b[0m\u001b[1;33m\u001b[0m\u001b[1;33m\u001b[0m\u001b[0m\n\u001b[0;32m      9\u001b[0m \u001b[0mdeviate\u001b[0m \u001b[1;33m=\u001b[0m \u001b[0mbesta\u001b[0m\u001b[1;33m.\u001b[0m\u001b[0mvalidate\u001b[0m\u001b[1;33m(\u001b[0m\u001b[0mds\u001b[0m\u001b[1;33m)\u001b[0m\u001b[1;33m\u001b[0m\u001b[1;33m\u001b[0m\u001b[0m\n",
      "\u001b[1;32m<ipython-input-56-1f646f81bd52>\u001b[0m in \u001b[0;36mSGD\u001b[1;34m(self, train_set, validation_set, batch_size, lr, epochs)\u001b[0m\n\u001b[0;32m     41\u001b[0m             \u001b[0mmini_batches\u001b[0m \u001b[1;33m=\u001b[0m \u001b[1;33m[\u001b[0m\u001b[0mtrain_set\u001b[0m\u001b[1;33m[\u001b[0m\u001b[0mk\u001b[0m\u001b[1;33m:\u001b[0m\u001b[0mk\u001b[0m\u001b[1;33m+\u001b[0m\u001b[0mbatch_size\u001b[0m\u001b[1;33m]\u001b[0m \u001b[1;32mfor\u001b[0m \u001b[0mk\u001b[0m \u001b[1;32min\u001b[0m \u001b[0mrange\u001b[0m\u001b[1;33m(\u001b[0m\u001b[1;36m0\u001b[0m\u001b[1;33m,\u001b[0m \u001b[0mtrain_set\u001b[0m\u001b[1;33m.\u001b[0m\u001b[0mshape\u001b[0m\u001b[1;33m[\u001b[0m\u001b[1;36m0\u001b[0m\u001b[1;33m]\u001b[0m\u001b[1;33m,\u001b[0m \u001b[0mbatch_size\u001b[0m\u001b[1;33m)\u001b[0m\u001b[1;33m]\u001b[0m\u001b[1;33m\u001b[0m\u001b[1;33m\u001b[0m\u001b[0m\n\u001b[0;32m     42\u001b[0m             \u001b[1;32mfor\u001b[0m \u001b[0mmini_batch\u001b[0m \u001b[1;32min\u001b[0m \u001b[0mmini_batches\u001b[0m\u001b[1;33m:\u001b[0m\u001b[1;33m\u001b[0m\u001b[1;33m\u001b[0m\u001b[0m\n\u001b[1;32m---> 43\u001b[1;33m                 \u001b[0mself\u001b[0m\u001b[1;33m.\u001b[0m\u001b[0mminibatch\u001b[0m\u001b[1;33m(\u001b[0m\u001b[0mmini_batch\u001b[0m\u001b[1;33m,\u001b[0m \u001b[0meta\u001b[0m\u001b[1;33m)\u001b[0m\u001b[1;33m\u001b[0m\u001b[1;33m\u001b[0m\u001b[0m\n\u001b[0m\u001b[0;32m     44\u001b[0m             \u001b[0mcurVar\u001b[0m\u001b[1;33m=\u001b[0m\u001b[0mself\u001b[0m\u001b[1;33m.\u001b[0m\u001b[0mvalidate\u001b[0m\u001b[1;33m(\u001b[0m\u001b[0mvalidation_set\u001b[0m\u001b[1;33m)\u001b[0m\u001b[1;33m\u001b[0m\u001b[1;33m\u001b[0m\u001b[0m\n\u001b[0;32m     45\u001b[0m             \u001b[1;32mif\u001b[0m \u001b[0mcurVar\u001b[0m\u001b[1;33m<\u001b[0m\u001b[0mvariate\u001b[0m\u001b[1;33m:\u001b[0m\u001b[1;33m\u001b[0m\u001b[1;33m\u001b[0m\u001b[0m\n",
      "\u001b[1;32m<ipython-input-56-1f646f81bd52>\u001b[0m in \u001b[0;36mminibatch\u001b[1;34m(self, batch, lr)\u001b[0m\n\u001b[0;32m     60\u001b[0m         \u001b[0mgrad_w\u001b[0m \u001b[1;33m=\u001b[0m \u001b[1;33m[\u001b[0m\u001b[0mnp\u001b[0m\u001b[1;33m.\u001b[0m\u001b[0mzeros\u001b[0m\u001b[1;33m(\u001b[0m\u001b[0mw\u001b[0m\u001b[1;33m.\u001b[0m\u001b[0mshape\u001b[0m\u001b[1;33m)\u001b[0m \u001b[1;32mfor\u001b[0m \u001b[0mw\u001b[0m \u001b[1;32min\u001b[0m \u001b[0mself\u001b[0m\u001b[1;33m.\u001b[0m\u001b[0mweights\u001b[0m\u001b[1;33m]\u001b[0m\u001b[1;33m\u001b[0m\u001b[1;33m\u001b[0m\u001b[0m\n\u001b[0;32m     61\u001b[0m         \u001b[1;32mfor\u001b[0m \u001b[0mrow\u001b[0m \u001b[1;32min\u001b[0m \u001b[0mbatch\u001b[0m\u001b[1;33m:\u001b[0m\u001b[1;33m\u001b[0m\u001b[1;33m\u001b[0m\u001b[0m\n\u001b[1;32m---> 62\u001b[1;33m             \u001b[0mdelta_gw\u001b[0m\u001b[1;33m,\u001b[0m\u001b[0mdelta_gb\u001b[0m\u001b[1;33m=\u001b[0m\u001b[0mself\u001b[0m\u001b[1;33m.\u001b[0m\u001b[0mbackPropagation\u001b[0m\u001b[1;33m(\u001b[0m\u001b[0mrow\u001b[0m\u001b[1;33m[\u001b[0m\u001b[1;33m:\u001b[0m\u001b[1;33m-\u001b[0m\u001b[1;36m1\u001b[0m\u001b[1;33m]\u001b[0m\u001b[1;33m,\u001b[0m\u001b[0mrow\u001b[0m\u001b[1;33m[\u001b[0m\u001b[1;33m-\u001b[0m\u001b[1;36m1\u001b[0m\u001b[1;33m]\u001b[0m\u001b[1;33m)\u001b[0m\u001b[1;33m\u001b[0m\u001b[1;33m\u001b[0m\u001b[0m\n\u001b[0m\u001b[0;32m     63\u001b[0m             \u001b[0mgrad_w\u001b[0m\u001b[1;33m=\u001b[0m\u001b[1;33m[\u001b[0m\u001b[0mgw\u001b[0m\u001b[1;33m+\u001b[0m\u001b[0mdgw\u001b[0m \u001b[1;32mfor\u001b[0m \u001b[0mgw\u001b[0m\u001b[1;33m,\u001b[0m\u001b[0mdgw\u001b[0m \u001b[1;32min\u001b[0m \u001b[0mzip\u001b[0m\u001b[1;33m(\u001b[0m\u001b[0mgrad_w\u001b[0m\u001b[1;33m,\u001b[0m\u001b[0mdelta_gw\u001b[0m\u001b[1;33m)\u001b[0m\u001b[1;33m]\u001b[0m\u001b[1;33m\u001b[0m\u001b[1;33m\u001b[0m\u001b[0m\n\u001b[0;32m     64\u001b[0m             \u001b[0mgrad_b\u001b[0m\u001b[1;33m=\u001b[0m\u001b[1;33m[\u001b[0m\u001b[0mgb\u001b[0m\u001b[1;33m+\u001b[0m\u001b[0mdgb\u001b[0m \u001b[1;32mfor\u001b[0m \u001b[0mgb\u001b[0m\u001b[1;33m,\u001b[0m\u001b[0mdgb\u001b[0m \u001b[1;32min\u001b[0m \u001b[0mzip\u001b[0m\u001b[1;33m(\u001b[0m\u001b[0mgrad_b\u001b[0m\u001b[1;33m,\u001b[0m\u001b[0mdelta_gb\u001b[0m\u001b[1;33m)\u001b[0m\u001b[1;33m]\u001b[0m\u001b[1;33m\u001b[0m\u001b[1;33m\u001b[0m\u001b[0m\n",
      "\u001b[1;32m<ipython-input-56-1f646f81bd52>\u001b[0m in \u001b[0;36mbackPropagation\u001b[1;34m(self, x, y)\u001b[0m\n\u001b[0;32m     30\u001b[0m         \u001b[0mdelta\u001b[0m\u001b[1;33m[\u001b[0m\u001b[1;33m-\u001b[0m\u001b[1;36m1\u001b[0m\u001b[1;33m]\u001b[0m\u001b[1;33m=\u001b[0m\u001b[1;33m(\u001b[0m\u001b[0mz\u001b[0m\u001b[1;33m-\u001b[0m\u001b[0my\u001b[0m\u001b[1;33m)\u001b[0m\u001b[1;33m.\u001b[0m\u001b[0mtranspose\u001b[0m\u001b[1;33m(\u001b[0m\u001b[1;33m)\u001b[0m\u001b[1;33m\u001b[0m\u001b[1;33m\u001b[0m\u001b[0m\n\u001b[0;32m     31\u001b[0m         \u001b[1;32mfor\u001b[0m \u001b[0ml\u001b[0m \u001b[1;32min\u001b[0m \u001b[0mrange\u001b[0m\u001b[1;33m(\u001b[0m\u001b[1;36m2\u001b[0m\u001b[1;33m,\u001b[0m\u001b[0mself\u001b[0m\u001b[1;33m.\u001b[0m\u001b[0mnum_layers\u001b[0m\u001b[1;33m)\u001b[0m\u001b[1;33m:\u001b[0m\u001b[1;33m\u001b[0m\u001b[1;33m\u001b[0m\u001b[0m\n\u001b[1;32m---> 32\u001b[1;33m             \u001b[0mdelta\u001b[0m\u001b[1;33m[\u001b[0m\u001b[1;33m-\u001b[0m\u001b[0ml\u001b[0m\u001b[1;33m]\u001b[0m\u001b[1;33m=\u001b[0m\u001b[0mnp\u001b[0m\u001b[1;33m.\u001b[0m\u001b[0mmultiply\u001b[0m\u001b[1;33m(\u001b[0m\u001b[0msigmoid_prime\u001b[0m\u001b[1;33m(\u001b[0m\u001b[0malist\u001b[0m\u001b[1;33m[\u001b[0m\u001b[1;33m-\u001b[0m\u001b[0ml\u001b[0m\u001b[1;33m]\u001b[0m\u001b[1;33m)\u001b[0m\u001b[1;33m,\u001b[0m\u001b[0mself\u001b[0m\u001b[1;33m.\u001b[0m\u001b[0mweights\u001b[0m\u001b[1;33m[\u001b[0m\u001b[1;36m1\u001b[0m\u001b[1;33m-\u001b[0m\u001b[0ml\u001b[0m\u001b[1;33m]\u001b[0m\u001b[1;33m.\u001b[0m\u001b[0mtranspose\u001b[0m\u001b[1;33m(\u001b[0m\u001b[1;33m)\u001b[0m\u001b[1;33m*\u001b[0m\u001b[0mdelta\u001b[0m\u001b[1;33m[\u001b[0m\u001b[1;36m1\u001b[0m\u001b[1;33m-\u001b[0m\u001b[0ml\u001b[0m\u001b[1;33m]\u001b[0m\u001b[1;33m)\u001b[0m\u001b[1;33m\u001b[0m\u001b[1;33m\u001b[0m\u001b[0m\n\u001b[0m\u001b[0;32m     33\u001b[0m         \u001b[1;32mfor\u001b[0m \u001b[0mi\u001b[0m \u001b[1;32min\u001b[0m \u001b[0mrange\u001b[0m\u001b[1;33m(\u001b[0m\u001b[0mself\u001b[0m\u001b[1;33m.\u001b[0m\u001b[0mnum_layers\u001b[0m\u001b[1;33m-\u001b[0m\u001b[1;36m1\u001b[0m\u001b[1;33m)\u001b[0m\u001b[1;33m:\u001b[0m\u001b[1;33m\u001b[0m\u001b[1;33m\u001b[0m\u001b[0m\n\u001b[0;32m     34\u001b[0m             \u001b[0mgrad_w\u001b[0m\u001b[1;33m[\u001b[0m\u001b[0mi\u001b[0m\u001b[1;33m]\u001b[0m\u001b[1;33m=\u001b[0m\u001b[0mdelta\u001b[0m\u001b[1;33m[\u001b[0m\u001b[0mi\u001b[0m\u001b[1;33m]\u001b[0m\u001b[1;33m*\u001b[0m\u001b[0mnp\u001b[0m\u001b[1;33m.\u001b[0m\u001b[0mmat\u001b[0m\u001b[1;33m(\u001b[0m\u001b[0malist\u001b[0m\u001b[1;33m[\u001b[0m\u001b[0mi\u001b[0m\u001b[1;33m]\u001b[0m\u001b[1;33m)\u001b[0m\u001b[1;33m.\u001b[0m\u001b[0mtranspose\u001b[0m\u001b[1;33m(\u001b[0m\u001b[1;33m)\u001b[0m\u001b[1;33m\u001b[0m\u001b[1;33m\u001b[0m\u001b[0m\n",
      "\u001b[1;32m~\\anaconda3\\lib\\site-packages\\numpy\\matrixlib\\defmatrix.py\u001b[0m in \u001b[0;36m__mul__\u001b[1;34m(self, other)\u001b[0m\n\u001b[0;32m    218\u001b[0m         \u001b[1;32mif\u001b[0m \u001b[0misinstance\u001b[0m\u001b[1;33m(\u001b[0m\u001b[0mother\u001b[0m\u001b[1;33m,\u001b[0m \u001b[1;33m(\u001b[0m\u001b[0mN\u001b[0m\u001b[1;33m.\u001b[0m\u001b[0mndarray\u001b[0m\u001b[1;33m,\u001b[0m \u001b[0mlist\u001b[0m\u001b[1;33m,\u001b[0m \u001b[0mtuple\u001b[0m\u001b[1;33m)\u001b[0m\u001b[1;33m)\u001b[0m \u001b[1;33m:\u001b[0m\u001b[1;33m\u001b[0m\u001b[1;33m\u001b[0m\u001b[0m\n\u001b[0;32m    219\u001b[0m             \u001b[1;31m# This promotes 1-D vectors to row vectors\u001b[0m\u001b[1;33m\u001b[0m\u001b[1;33m\u001b[0m\u001b[1;33m\u001b[0m\u001b[0m\n\u001b[1;32m--> 220\u001b[1;33m             \u001b[1;32mreturn\u001b[0m \u001b[0mN\u001b[0m\u001b[1;33m.\u001b[0m\u001b[0mdot\u001b[0m\u001b[1;33m(\u001b[0m\u001b[0mself\u001b[0m\u001b[1;33m,\u001b[0m \u001b[0masmatrix\u001b[0m\u001b[1;33m(\u001b[0m\u001b[0mother\u001b[0m\u001b[1;33m)\u001b[0m\u001b[1;33m)\u001b[0m\u001b[1;33m\u001b[0m\u001b[1;33m\u001b[0m\u001b[0m\n\u001b[0m\u001b[0;32m    221\u001b[0m         \u001b[1;32mif\u001b[0m \u001b[0misscalar\u001b[0m\u001b[1;33m(\u001b[0m\u001b[0mother\u001b[0m\u001b[1;33m)\u001b[0m \u001b[1;32mor\u001b[0m \u001b[1;32mnot\u001b[0m \u001b[0mhasattr\u001b[0m\u001b[1;33m(\u001b[0m\u001b[0mother\u001b[0m\u001b[1;33m,\u001b[0m \u001b[1;34m'__rmul__'\u001b[0m\u001b[1;33m)\u001b[0m \u001b[1;33m:\u001b[0m\u001b[1;33m\u001b[0m\u001b[1;33m\u001b[0m\u001b[0m\n\u001b[0;32m    222\u001b[0m             \u001b[1;32mreturn\u001b[0m \u001b[0mN\u001b[0m\u001b[1;33m.\u001b[0m\u001b[0mdot\u001b[0m\u001b[1;33m(\u001b[0m\u001b[0mself\u001b[0m\u001b[1;33m,\u001b[0m \u001b[0mother\u001b[0m\u001b[1;33m)\u001b[0m\u001b[1;33m\u001b[0m\u001b[1;33m\u001b[0m\u001b[0m\n",
      "\u001b[1;32m<__array_function__ internals>\u001b[0m in \u001b[0;36mdot\u001b[1;34m(*args, **kwargs)\u001b[0m\n",
      "\u001b[1;31mKeyboardInterrupt\u001b[0m: "
     ]
    }
   ],
   "source": [
    "# 单隐藏层\n",
    "ds=preprocess(pd.read_csv('1/train.csv'))\n",
    "inputNode=ds.shape[1]-1\n",
    "learningRate=1e-3\n",
    "a=ANN([inputNode,80,1])\n",
    "eta=learningRate\n",
    "besta = a.SGD(ds,ds,50,eta,500)\n",
    "deviate = besta.validate(ds)\n"
   ]
  },
  {
   "cell_type": "code",
   "execution_count": 171,
   "metadata": {
    "ExecuteTime": {
     "end_time": "2020-10-22T13:42:51.773364Z",
     "start_time": "2020-10-22T13:42:51.751325Z"
    }
   },
   "outputs": [
    {
     "data": {
      "text/plain": [
       "[18.74184763583272,\n",
       " 41.44473174848712,\n",
       " 57.853046403545164,\n",
       " 34.625065745097395,\n",
       " 76.7565360443182]"
      ]
     },
     "execution_count": 171,
     "metadata": {},
     "output_type": "execute_result"
    }
   ],
   "source": [
    "vs=preprocess(pd.read_csv('1/test.csv'))\n",
    "vs=vs[:,:-1].astype('float64')\n",
    "checkres=[a.forward_pass(row) for row in vs]\n",
    "checkres"
   ]
  }
 ],
 "metadata": {
  "kernelspec": {
   "display_name": "Python 3.7.6 64-bit ('base': conda)",
   "language": "python",
   "name": "python37664bitbaseconda4695e5f7bc8c4dc3ac8217854788797a"
  },
  "language_info": {
   "codemirror_mode": {
    "name": "ipython",
    "version": 3
   },
   "file_extension": ".py",
   "mimetype": "text/x-python",
   "name": "python",
   "nbconvert_exporter": "python",
   "pygments_lexer": "ipython3",
   "version": "3.7.6"
  },
  "varInspector": {
   "cols": {
    "lenName": 16,
    "lenType": 16,
    "lenVar": 40
   },
   "kernels_config": {
    "python": {
     "delete_cmd_postfix": "",
     "delete_cmd_prefix": "del ",
     "library": "var_list.py",
     "varRefreshCmd": "print(var_dic_list())"
    },
    "r": {
     "delete_cmd_postfix": ") ",
     "delete_cmd_prefix": "rm(",
     "library": "var_list.r",
     "varRefreshCmd": "cat(var_dic_list()) "
    }
   },
   "position": {
    "height": "429.4px",
    "left": "1268.4px",
    "right": "20px",
    "top": "120px",
    "width": "350px"
   },
   "types_to_exclude": [
    "module",
    "function",
    "builtin_function_or_method",
    "instance",
    "_Feature"
   ],
   "window_display": false
  }
 },
 "nbformat": 4,
 "nbformat_minor": 4
}
