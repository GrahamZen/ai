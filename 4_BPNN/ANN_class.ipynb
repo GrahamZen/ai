{
 "cells": [
  {
   "cell_type": "code",
   "execution_count": 75,
   "metadata": {
    "ExecuteTime": {
     "end_time": "2020-10-17T16:56:56.602381Z",
     "start_time": "2020-10-17T16:56:55.763383Z"
    }
   },
   "outputs": [],
   "source": [
    "import numpy as np\n",
    "import pandas as pd"
   ]
  },
  {
   "cell_type": "code",
   "execution_count": 381,
   "metadata": {
    "ExecuteTime": {
     "end_time": "2020-10-18T05:09:07.590389Z",
     "start_time": "2020-10-18T05:09:07.579387Z"
    }
   },
   "outputs": [],
   "source": [
    "def sigmoid(x):\n",
    "    mask = (x > 0)\n",
    "    positive_out = np.zeros_like(x, dtype='float64')\n",
    "    negative_out = np.zeros_like(x, dtype='float64')\n",
    "    \n",
    "    # 大于0的情况\n",
    "    positive_out = 1 / (1 + np.exp(-x, positive_out, where=mask))\n",
    "    # 清除对小于等于0元素的影响\n",
    "    positive_out[~mask] = 0\n",
    "    \n",
    "    # 小于等于0的情况\n",
    "    expX = np.exp(x,negative_out,where=~mask)\n",
    "    negative_out = expX / (1+expX)\n",
    "    # 清除对大于0元素的影响\n",
    "    negative_out[mask] = 0\n",
    "    \n",
    "    return positive_out + negative_out        "
   ]
  },
  {
   "cell_type": "code",
   "execution_count": 620,
   "metadata": {
    "ExecuteTime": {
     "end_time": "2020-10-19T01:11:50.779374Z",
     "start_time": "2020-10-19T01:11:50.760341Z"
    }
   },
   "outputs": [],
   "source": [
    "class ANN:\n",
    "    def __init__(self,size):\n",
    "#         输入层之外的层数,例子为1+2，layNum=3\n",
    "        self.layerNum=len(size)\n",
    "        self.size=size\n",
    "#         i索引W(i+1)矩阵\n",
    "        self.layer=[]\n",
    "        self.offset=[]\n",
    "        self.zlist=[None]*self.layerNum\n",
    "        self.alist=[None]*self.layerNum\n",
    "        self.gradient=[None]*(self.layerNum-1)\n",
    "#         0->sigmaPrime[2]\n",
    "        self.sigmaPrime=[None]*(self.layerNum-1)\n",
    "#         0->dcoverdz[2]\n",
    "        self.delta=[None]*(self.layerNum-1)\n",
    "        self.predict_res=0\n",
    "        for i in range(self.layerNum-1):\n",
    "            self.layer.append(np.random.rand(size[i+1],size[i]))\n",
    "            self.offset.append(np.matrix(np.random.rand(size[i+1])).transpose())\n",
    "    def forward_pass(self,invec):\n",
    "        a=np.matrix(invec).transpose()\n",
    "        self.alist[0]=a\n",
    "        for i in range(self.layerNum-1):\n",
    "            z=self.layer[i]*a+self.offset[i]\n",
    "            a=sigmoid(z)\n",
    "            self.zlist[i+1]=z\n",
    "            self.alist[i+1]=a\n",
    "            self.sigmaPrime[i]=np.matrix(np.diag(np.multiply(a,1-a).ravel().tolist()[0]))\n",
    "        self.predict_res=a\n",
    "        return\n",
    "    def calcdelta(self,res):\n",
    "#         只计算0 1（实际上是2,3）\n",
    "        layer_no=self.layerNum-2\n",
    "        self.delta[layer_no]=self.sigmaPrime[layer_no]*(self.predict_res-res)\n",
    "        while layer_no>0:\n",
    "            self.delta[layer_no-1]=self.sigmaPrime[layer_no-1]*self.layer[layer_no].transpose()*self.delta[layer_no]\n",
    "            layer_no-=1\n",
    "        return\n",
    "    def backPropagation(self,invec,res,lr=1e-3):\n",
    "        self.forward_pass(invec)\n",
    "        self.calcdelta(res)\n",
    "        for i in range(self.layerNum-1):\n",
    "            self.gradient[i]=self.delta[i]*np.mat(self.alist[i]).transpose()\n",
    "#         print(self.gradient[1])\n",
    "        for i in range(self.layerNum-1):\n",
    "            self.layer[i]-=lr*self.gradient[i]\n",
    "            self.offset[i]-=lr*self.delta[i]\n",
    "    def train(self,train_set,lr=1):\n",
    "        for row in train_set:\n",
    "            self.backPropagation(row[:-1],row[-1],lr)\n",
    "    def test(self,invec):\n",
    "        a=np.matrix(invec).transpose()\n",
    "        for i in range(self.layerNum-1):\n",
    "            a=sigmoid(self.layer[i]*a+self.offset[i])\n",
    "        return float(a)"
   ]
  },
  {
   "cell_type": "code",
   "execution_count": 631,
   "metadata": {
    "ExecuteTime": {
     "end_time": "2020-10-19T01:11:59.500557Z",
     "start_time": "2020-10-19T01:11:59.103566Z"
    }
   },
   "outputs": [
    {
     "data": {
      "text/plain": [
       "0.5"
      ]
     },
     "execution_count": 631,
     "metadata": {},
     "output_type": "execute_result"
    }
   ],
   "source": [
    "a=ANN([2,2,1])\n",
    "a.layer[0]=np.array([[0.1,0.8],[0.4,0.6]])\n",
    "a.layer[1]=np.array([[0.3,0.9]])\n",
    "# print(a.layer)\n",
    "for i in range(1000):\n",
    "    a.backPropagation(np.array([0.35, 0.9]),0.5,1)\n",
    "a.test(np.array([0.35, 0.9]))"
   ]
  },
  {
   "cell_type": "code",
   "execution_count": 567,
   "metadata": {
    "ExecuteTime": {
     "end_time": "2020-10-18T06:56:47.069131Z",
     "start_time": "2020-10-18T06:56:47.043160Z"
    }
   },
   "outputs": [],
   "source": [
    "dataSet=pd.read_csv('lab4_dataset/train.csv')"
   ]
  },
  {
   "cell_type": "code",
   "execution_count": 526,
   "metadata": {
    "ExecuteTime": {
     "end_time": "2020-10-18T06:47:33.302329Z",
     "start_time": "2020-10-18T06:47:33.288322Z"
    }
   },
   "outputs": [],
   "source": [
    "def preprocess(dataSet):\n",
    "    dataSet.dteday=dataSet.dteday.map(date2int)\n",
    "    return dataSet.values"
   ]
  },
  {
   "cell_type": "code",
   "execution_count": 589,
   "metadata": {
    "ExecuteTime": {
     "end_time": "2020-10-18T07:02:11.153783Z",
     "start_time": "2020-10-18T07:02:11.108813Z"
    }
   },
   "outputs": [],
   "source": [
    "dataSet=pd.read_csv('lab4_dataset/train.csv')\n",
    "ds=preprocess(dataSet)[:,1:]\n",
    "inputNode=ds.shape[1]-1\n",
    "a=ANN([inputNode,10,1])\n",
    "# for i in range(10):\n",
    "#     a.train(ds)\n",
    "# for row in ds:\n",
    "#     print([float(x) for x in row])"
   ]
  },
  {
   "cell_type": "code",
   "execution_count": 573,
   "metadata": {
    "ExecuteTime": {
     "end_time": "2020-10-18T06:57:53.226789Z",
     "start_time": "2020-10-18T06:57:53.209789Z"
    }
   },
   "outputs": [
    {
     "data": {
      "text/plain": [
       "0.9999999926206831"
      ]
     },
     "execution_count": 573,
     "metadata": {},
     "output_type": "execute_result"
    }
   ],
   "source": [
    "a.test(ds[1111][:-1])"
   ]
  },
  {
   "cell_type": "code",
   "execution_count": 590,
   "metadata": {
    "ExecuteTime": {
     "end_time": "2020-10-18T07:02:13.718783Z",
     "start_time": "2020-10-18T07:02:13.703787Z"
    }
   },
   "outputs": [
    {
     "name": "stdout",
     "output_type": "stream",
     "text": [
      "[[2.013e+03]\n",
      " [1.000e+00]\n",
      " [0.000e+00]\n",
      " [1.000e+00]\n",
      " [0.000e+00]\n",
      " [0.000e+00]\n",
      " [6.000e+00]\n",
      " [0.000e+00]\n",
      " [1.000e+00]\n",
      " [2.400e-01]\n",
      " [2.879e-01]\n",
      " [8.100e-01]\n",
      " [0.000e+00]]\n",
      "[[1.]\n",
      " [1.]\n",
      " [1.]\n",
      " [1.]\n",
      " [1.]\n",
      " [1.]\n",
      " [1.]\n",
      " [1.]\n",
      " [1.]\n",
      " [1.]]\n",
      "[[0.9958511]]\n"
     ]
    }
   ],
   "source": [
    "a.backPropagation(ds[0][:-1],ds[0][-1],1)"
   ]
  },
  {
   "cell_type": "code",
   "execution_count": 618,
   "metadata": {
    "ExecuteTime": {
     "end_time": "2020-10-19T00:58:46.078620Z",
     "start_time": "2020-10-19T00:58:46.061650Z"
    }
   },
   "outputs": [
    {
     "data": {
      "text/plain": [
       "matrix([[1, 4, 9]])"
      ]
     },
     "execution_count": 618,
     "metadata": {},
     "output_type": "execute_result"
    }
   ],
   "source": [
    "np.multiply(np.matrix([1,2,3]),np.matrix([1,2,3]))"
   ]
  },
  {
   "cell_type": "code",
   "execution_count": 477,
   "metadata": {
    "ExecuteTime": {
     "end_time": "2020-10-18T06:33:44.604187Z",
     "start_time": "2020-10-18T06:33:44.589189Z"
    }
   },
   "outputs": [],
   "source": [
    "def date2int(str):\n",
    "    return sum([int(x) for x in str.split('/')])"
   ]
  }
 ],
 "metadata": {
  "kernelspec": {
   "display_name": "Python 3.7.6 64-bit ('base': conda)",
   "language": "python",
   "name": "python37664bitbaseconda4695e5f7bc8c4dc3ac8217854788797a"
  },
  "language_info": {
   "codemirror_mode": {
    "name": "ipython",
    "version": 3
   },
   "file_extension": ".py",
   "mimetype": "text/x-python",
   "name": "python",
   "nbconvert_exporter": "python",
   "pygments_lexer": "ipython3",
   "version": "3.7.6"
  },
  "varInspector": {
   "cols": {
    "lenName": 16,
    "lenType": 16,
    "lenVar": 40
   },
   "kernels_config": {
    "python": {
     "delete_cmd_postfix": "",
     "delete_cmd_prefix": "del ",
     "library": "var_list.py",
     "varRefreshCmd": "print(var_dic_list())"
    },
    "r": {
     "delete_cmd_postfix": ") ",
     "delete_cmd_prefix": "rm(",
     "library": "var_list.r",
     "varRefreshCmd": "cat(var_dic_list()) "
    }
   },
   "types_to_exclude": [
    "module",
    "function",
    "builtin_function_or_method",
    "instance",
    "_Feature"
   ],
   "window_display": false
  }
 },
 "nbformat": 4,
 "nbformat_minor": 4
}
