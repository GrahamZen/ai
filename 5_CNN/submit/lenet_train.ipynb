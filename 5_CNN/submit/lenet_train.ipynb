{
 "cells": [
  {
   "cell_type": "code",
   "execution_count": 1,
   "metadata": {
    "ExecuteTime": {
     "end_time": "2020-11-12T03:06:01.793242Z",
     "start_time": "2020-11-12T03:05:58.818669Z"
    }
   },
   "outputs": [],
   "source": [
    "from cifardef import *\n",
    "from lenet5 import *\n",
    "from PIL import Image  \n",
    "import torch,math,os\n",
    "from torch import nn, optim\n",
    "import torch.nn.functional as F\n",
    "from torch.autograd import Variable\n",
    "from torch.utils.data import DataLoader\n",
    "from torchvision import transforms\n",
    "from torchvision import datasets\n",
    "from matplotlib import pyplot as plt\n",
    "import numpy as np\n",
    "import pandas as pd"
   ]
  },
  {
   "cell_type": "code",
   "execution_count": 2,
   "metadata": {
    "ExecuteTime": {
     "end_time": "2020-11-12T03:07:16.045195Z",
     "start_time": "2020-11-12T03:07:16.027199Z"
    }
   },
   "outputs": [
    {
     "output_type": "stream",
     "name": "stdout",
     "text": [
      "lenet5(\n  (l1): Sequential(\n    (0): Conv2d(3, 6, kernel_size=(3, 3), stride=(1, 1))\n    (1): MaxPool2d(kernel_size=2, stride=2, padding=0, dilation=1, ceil_mode=False)\n    (2): Sigmoid()\n  )\n  (l2): Sequential(\n    (0): Conv2d(6, 16, kernel_size=(3, 3), stride=(1, 1))\n    (1): MaxPool2d(kernel_size=3, stride=2, padding=0, dilation=1, ceil_mode=False)\n    (2): Sigmoid()\n  )\n  (l3): Sequential(\n    (0): Conv2d(16, 120, kernel_size=(3, 3), stride=(1, 1))\n  )\n  (linear): Sequential(\n    (0): Linear(in_features=1920, out_features=10, bias=True)\n  )\n)\n"
     ]
    }
   ],
   "source": [
    "PATH='Lenet.pkl'\n",
    "model = lenet5(3,10)\n",
    "if os.path.isfile(PATH):\n",
    "    model.load_state_dict(torch.load(PATH))\n",
    "    print(model.eval())\n",
    "else:\n",
    "    print('No model')\n",
    "log=open(PATH.split('.')[0]+'.log','a')\n",
    "best_acc=0\n",
    "cuda_gpu = torch.cuda.is_available()\n",
    "if cuda_gpu:\n",
    "    model = model.cuda()"
   ]
  },
  {
   "cell_type": "code",
   "execution_count": 4,
   "metadata": {
    "ExecuteTime": {
     "end_time": "2020-11-11T09:16:54.703122Z",
     "start_time": "2020-11-11T09:16:54.207327Z"
    }
   },
   "outputs": [],
   "source": [
    "batch_size = 128\n",
    "learning_rate = 0.0001\n",
    "num_epoches = 1000\n",
    "\n",
    "transform_train = transforms.Compose([\n",
    "    transforms.RandomCrop(32, padding=4), \n",
    "    transforms.RandomHorizontalFlip(),\n",
    "    transforms.ToTensor(),\n",
    "    transforms.Normalize((0.4914, 0.4822, 0.4465), (0.2023, 0.1994, 0.2010)), #R,G,B每层的归一化用到的均值和方差\n",
    "])\n",
    "\n",
    "transform_test = transforms.Compose([\n",
    "    transforms.ToTensor(),\n",
    "    transforms.Normalize((0.4914, 0.4822, 0.4465), (0.2023, 0.1994, 0.2010)),\n",
    "])\n",
    "\n",
    "test_dataset = cifar_10('data/cifar-10-batches-py',\n",
    "                        train=False, transform=transform_test)\n",
    "meta=unpickle('data/cifar-10-batches-py/batches.meta')\n",
    "\n",
    "test_loader = DataLoader(test_dataset, batch_size=batch_size, shuffle=False)\n",
    "\n",
    "train_datasetList = [ cifar_10('data/cifar-10-batches-py',\n",
    "                         train=True, transform=transform_train,index=i+1) for i in range(5)]\n",
    "train_loaderList=[DataLoader(t, batch_size=batch_size, shuffle=True) for t in train_datasetList]\n",
    "\n",
    "# 定义loss和optimizer\n",
    "criterion = nn.CrossEntropyLoss()\n",
    "optimizer = optim.SGD(model.parameters(), lr=learning_rate)\n"
   ]
  },
  {
   "cell_type": "code",
   "execution_count": null,
   "metadata": {
    "ExecuteTime": {
     "end_time": "2020-11-11T07:50:20.850938Z",
     "start_time": "2020-11-11T07:50:20.840968Z"
    }
   },
   "outputs": [],
   "source": [
    "epoch=1"
   ]
  },
  {
   "cell_type": "code",
   "execution_count": null,
   "metadata": {
    "ExecuteTime": {
     "end_time": "2020-11-11T11:04:15.161564Z",
     "start_time": "2020-11-11T09:16:55.871598Z"
    },
    "scrolled": true
   },
   "outputs": [],
   "source": [
    "epochs=200\n",
    "\n",
    "while epoch<=epochs:\n",
    "    print('Train Epoch: {}/{}:'.format(epoch,epochs))\n",
    "    for t in train_loaderList:\n",
    "        train(model,num_epoches,criterion,optimizer,t,log)\n",
    "    if(epoch%(1)==0):\n",
    "        acc, loss = test(model, 1, criterion, test_loader,log)\n",
    "    epoch+=1\n",
    "\n",
    "torch.save(model.state_dict(),PATH)\n",
    "log.close()"
   ]
  },
  {
   "cell_type": "code",
   "execution_count": null,
   "metadata": {
    "ExecuteTime": {
     "end_time": "2020-11-11T08:39:13.886648Z",
     "start_time": "2020-11-11T08:35:49.274388Z"
    },
    "scrolled": true
   },
   "outputs": [],
   "source": [
    "test_visual(model,'data/cifar-10-batches-py',meta,transform_test)"
   ]
  },
  {
   "cell_type": "code",
   "execution_count": null,
   "metadata": {
    "ExecuteTime": {
     "end_time": "2020-11-11T08:35:36.581488Z",
     "start_time": "2020-11-11T08:35:23.373744Z"
    }
   },
   "outputs": [],
   "source": [
    "test(model, 1, nn.CrossEntropyLoss(), test_loader)"
   ]
  }
 ],
 "metadata": {
  "kernelspec": {
   "display_name": "Python 3.7.6 64-bit ('base': conda)",
   "language": "python",
   "name": "python37664bitbaseconda4695e5f7bc8c4dc3ac8217854788797a"
  },
  "language_info": {
   "codemirror_mode": {
    "name": "ipython",
    "version": 3
   },
   "file_extension": ".py",
   "mimetype": "text/x-python",
   "name": "python",
   "nbconvert_exporter": "python",
   "pygments_lexer": "ipython3",
   "version": "3.7.6-final"
  },
  "varInspector": {
   "cols": {
    "lenName": 16,
    "lenType": 16,
    "lenVar": 40
   },
   "kernels_config": {
    "python": {
     "delete_cmd_postfix": "",
     "delete_cmd_prefix": "del ",
     "library": "var_list.py",
     "varRefreshCmd": "print(var_dic_list())"
    },
    "r": {
     "delete_cmd_postfix": ") ",
     "delete_cmd_prefix": "rm(",
     "library": "var_list.r",
     "varRefreshCmd": "cat(var_dic_list()) "
    }
   },
   "position": {
    "height": "754.398px",
    "left": "953px",
    "right": "20px",
    "top": "91px",
    "width": "800px"
   },
   "types_to_exclude": [
    "module",
    "function",
    "builtin_function_or_method",
    "instance",
    "_Feature"
   ],
   "window_display": false
  }
 },
 "nbformat": 4,
 "nbformat_minor": 4
}