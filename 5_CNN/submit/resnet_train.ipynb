{
 "cells": [
  {
   "cell_type": "code",
   "execution_count": null,
   "metadata": {
    "ExecuteTime": {
     "end_time": "2020-11-11T07:56:23.630395Z",
     "start_time": "2020-11-11T07:56:21.715080Z"
    }
   },
   "outputs": [],
   "source": [
    "from cifardef import *\n",
    "from resnet import *\n",
    "from PIL import Image  \n",
    "import torch,math,os\n",
    "from torch import optim\n",
    "from torch.autograd import Variable\n",
    "from torch.utils.data import DataLoader\n",
    "from torchvision import transforms\n",
    "from torchvision import datasets\n",
    "from matplotlib import pyplot as plt\n",
    "import numpy as np\n",
    "import pandas as pd"
   ]
  },
  {
   "cell_type": "code",
   "execution_count": null,
   "metadata": {
    "ExecuteTime": {
     "end_time": "2020-11-11T07:56:25.910356Z",
     "start_time": "2020-11-11T07:56:23.650359Z"
    },
    "scrolled": true
   },
   "outputs": [],
   "source": [
    "PATH='ResNet.pkl'\n",
    "model = ResNet18()\n",
    "if os.path.isfile(PATH):\n",
    "    model.load_state_dict(torch.load(PATH))\n",
    "    print(model.eval())\n",
    "else:\n",
    "    print('No model')\n",
    "cuda_gpu = torch.cuda.is_available()\n",
    "if cuda_gpu:\n",
    "    model = model.cuda()"
   ]
  },
  {
   "cell_type": "code",
   "execution_count": null,
   "metadata": {
    "ExecuteTime": {
     "end_time": "2020-11-11T07:56:45.707636Z",
     "start_time": "2020-11-11T07:56:36.568669Z"
    }
   },
   "outputs": [],
   "source": [
    "batch_size = 128\n",
    "learning_rate = 0.1\n",
    "num_epoches = 1000\n",
    "\n",
    "transform_train = transforms.Compose([\n",
    "    transforms.RandomCrop(32, padding=4),  \n",
    "    transforms.RandomHorizontalFlip(),  \n",
    "    transforms.ToTensor(),\n",
    "    transforms.Normalize((0.4914, 0.4822, 0.4465), (0.2023, 0.1994, 0.2010)),\n",
    "])\n",
    "\n",
    "transform_test = transforms.Compose([\n",
    "    transforms.ToTensor(),\n",
    "    transforms.Normalize((0.4914, 0.4822, 0.4465), (0.2023, 0.1994, 0.2010)),\n",
    "])\n",
    "test_dataset = cifar_10('data/cifar-10-batches-py', train=False, transform=transform_test)\n",
    "meta=unpickle('data/cifar-10-batches-py/batches.meta')\n",
    "test_loader = DataLoader(test_dataset, batch_size=batch_size, shuffle=False)\n",
    "\n",
    "train_datasetList = [ cifar_10('data/cifar-10-batches-py', train=True, transform=transform_train,index=i+1) for i in range(5)]\n",
    "train_loaderList=[DataLoader(t, batch_size=batch_size, shuffle=True) for t in train_datasetList]\n",
    "\n",
    "# 定义loss和optimizer\n",
    "criterion = nn.CrossEntropyLoss()\n",
    "optimizer = optim.SGD(model.parameters(), lr=learning_rate)\n",
    "\n",
    "\n",
    "log=open(PATH.split('.')[0]+'.log','a')\n",
    "best_acc=float(test(model, 1, criterion, test_loader)[0])"
   ]
  },
  {
   "cell_type": "code",
   "execution_count": null,
   "metadata": {
    "ExecuteTime": {
     "end_time": "2020-11-11T06:28:21.108424Z",
     "start_time": "2020-11-11T06:28:21.104424Z"
    }
   },
   "outputs": [],
   "source": [
    "epoch=1"
   ]
  },
  {
   "cell_type": "code",
   "execution_count": null,
   "metadata": {
    "ExecuteTime": {
     "end_time": "2020-11-10T12:49:05.283532Z",
     "start_time": "2020-11-10T12:49:02.117571Z"
    },
    "scrolled": true
   },
   "outputs": [],
   "source": [
    "epochs1=135\n",
    "epochs2=185\n",
    "epochs3=240\n",
    "epochs=epochs3\n",
    "\n",
    "optimizer = optim.SGD(model.parameters(), lr=0.1)\n",
    "while epoch<=epochs1:\n",
    "    print('Train Epoch: {}/{}: lr = {}'.format(epoch,epochs,0.1))\n",
    "    print('Train Epoch: {}/{}:'.format(epoch,epochs),file=log)\n",
    "    for t in train_loaderList:\n",
    "        train(model,num_epoches,criterion,optimizer,t,file=log)\n",
    "    if(epoch%(1)==0):\n",
    "        acc, loss = test(model, 1, criterion, test_loader,log)\n",
    "        if acc>best_acc:\n",
    "            best_acc=acc\n",
    "            print('better model,saved as',PATH)\n",
    "            torch.save(model.state_dict(),PATH)\n",
    "    epoch+=1\n",
    "optimizer = optim.SGD(model.parameters(), lr=0.01)\n",
    "\n",
    "while epoch<=epochs2:\n",
    "    print('Train Epoch: {}/{}: lr = {}'.format(epoch,epochs,0.01))\n",
    "    print('Train Epoch: {}/{}:'.format(epoch,epochs),file=log)\n",
    "    for t in train_loaderList:\n",
    "        train(model,num_epoches,criterion,optimizer,t,file=log)\n",
    "    if(epoch%(1)==0):\n",
    "        acc, loss = test(model, 1, criterion, test_loader,log)\n",
    "        if acc>best_acc:\n",
    "            best_acc=acc\n",
    "            print('better model,saved as',PATH)\n",
    "            torch.save(model.state_dict(),PATH)\n",
    "    epoch+=1\n",
    "\n",
    "optimizer = optim.SGD(model.parameters(), lr=0.001)\n",
    "\n",
    "while epoch<=epochs3:\n",
    "    print('Train Epoch: {}/{}: lr = {}'.format(epoch,epochs,0.001))\n",
    "    print('Train Epoch: {}/{}:'.format(epoch,epochs),file=log)\n",
    "    for t in train_loaderList:\n",
    "        train(model,num_epoches,criterion,optimizer,t,file=log)\n",
    "    if(epoch%(1)==0):\n",
    "        acc, loss = test(model, 1, criterion, test_loader,log)\n",
    "        if acc>best_acc:\n",
    "            best_acc=acc\n",
    "            print('better model,saved as',PATH)\n",
    "            torch.save(model.state_dict(),PATH)  \n",
    "    epoch+=1\n",
    "log.close()"
   ]
  },
  {
   "cell_type": "code",
   "execution_count": null,
   "metadata": {
    "ExecuteTime": {
     "end_time": "2020-11-10T10:10:08.529647Z",
     "start_time": "2020-11-10T10:10:08.367616Z"
    },
    "scrolled": true
   },
   "outputs": [],
   "source": [
    "torch.save(model.state_dict(), PATH)"
   ]
  },
  {
   "cell_type": "code",
   "execution_count": null,
   "metadata": {
    "ExecuteTime": {
     "start_time": "2020-11-11T07:57:12.540Z"
    },
    "scrolled": false
   },
   "outputs": [],
   "source": [
    "test_visual(model,'data/cifar-10-batches-py',meta,transform_test)"
   ]
  },
  {
   "cell_type": "code",
   "execution_count": null,
   "metadata": {
    "ExecuteTime": {
     "end_time": "2020-11-10T12:49:25.635701Z",
     "start_time": "2020-11-10T12:49:25.628701Z"
    }
   },
   "outputs": [],
   "source": [
    "log.close()"
   ]
  }
 ],
 "metadata": {
  "kernelspec": {
   "display_name": "Python 3.7.6 64-bit ('base': conda)",
   "language": "python",
   "name": "python37664bitbaseconda4695e5f7bc8c4dc3ac8217854788797a"
  },
  "language_info": {
   "codemirror_mode": {
    "name": "ipython",
    "version": 3
   },
   "file_extension": ".py",
   "mimetype": "text/x-python",
   "name": "python",
   "nbconvert_exporter": "python",
   "pygments_lexer": "ipython3",
   "version": "3.7.6-final"
  },
  "varInspector": {
   "cols": {
    "lenName": 16,
    "lenType": 16,
    "lenVar": 40
   },
   "kernels_config": {
    "python": {
     "delete_cmd_postfix": "",
     "delete_cmd_prefix": "del ",
     "library": "var_list.py",
     "varRefreshCmd": "print(var_dic_list())"
    },
    "r": {
     "delete_cmd_postfix": ") ",
     "delete_cmd_prefix": "rm(",
     "library": "var_list.r",
     "varRefreshCmd": "cat(var_dic_list()) "
    }
   },
   "position": {
    "height": "754.398px",
    "left": "953px",
    "right": "20px",
    "top": "91px",
    "width": "800px"
   },
   "types_to_exclude": [
    "module",
    "function",
    "builtin_function_or_method",
    "instance",
    "_Feature"
   ],
   "window_display": false
  }
 },
 "nbformat": 4,
 "nbformat_minor": 4
}