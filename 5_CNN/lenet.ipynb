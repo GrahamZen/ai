{
 "cells": [
  {
   "cell_type": "code",
   "execution_count": 41,
   "metadata": {
    "ExecuteTime": {
     "end_time": "2020-11-11T07:45:19.685538Z",
     "start_time": "2020-11-11T07:45:19.669543Z"
    }
   },
   "outputs": [],
   "source": [
    "# import\n",
    "from cifardef import *\n",
    "from lenet5 import *\n",
    "from PIL import Image  \n",
    "import torch,math,os\n",
    "from torch import nn, optim\n",
    "import torch.nn.functional as F\n",
    "from torch.autograd import Variable\n",
    "from torch.utils.data import DataLoader\n",
    "from torchvision import transforms\n",
    "from torchvision import datasets\n",
    "from matplotlib import pyplot as plt\n",
    "import numpy as np\n",
    "import pandas as pd"
   ]
  },
  {
   "cell_type": "code",
   "execution_count": 54,
   "metadata": {
    "ExecuteTime": {
     "end_time": "2020-11-11T07:47:13.340983Z",
     "start_time": "2020-11-11T07:47:13.318985Z"
    }
   },
   "outputs": [
    {
     "name": "stdout",
     "output_type": "stream",
     "text": [
      "lenet5(\n",
      "  (l1): Sequential(\n",
      "    (0): Conv2d(3, 6, kernel_size=(3, 3), stride=(1, 1))\n",
      "    (1): MaxPool2d(kernel_size=2, stride=2, padding=0, dilation=1, ceil_mode=False)\n",
      "    (2): Sigmoid()\n",
      "  )\n",
      "  (l2): Sequential(\n",
      "    (0): Conv2d(6, 16, kernel_size=(3, 3), stride=(1, 1))\n",
      "    (1): MaxPool2d(kernel_size=3, stride=2, padding=0, dilation=1, ceil_mode=False)\n",
      "    (2): Sigmoid()\n",
      "  )\n",
      "  (l3): Sequential(\n",
      "    (0): Conv2d(16, 120, kernel_size=(3, 3), stride=(1, 1))\n",
      "  )\n",
      "  (linear): Sequential(\n",
      "    (0): Linear(in_features=1920, out_features=10, bias=True)\n",
      "  )\n",
      ")\n"
     ]
    }
   ],
   "source": [
    "PATH='Lenet.pkl'\n",
    "model = lenet5(3,10)\n",
    "if os.path.isfile(PATH):\n",
    "    model.load_state_dict(torch.load(PATH))\n",
    "    print(model.eval())\n",
    "else:\n",
    "    print('No model')\n",
    "log=open(PATH.split('.')[0]+'.log','a')\n",
    "best_acc=0\n",
    "cuda_gpu = torch.cuda.is_available()\n",
    "if cuda_gpu:\n",
    "    model = model.cuda()"
   ]
  },
  {
   "cell_type": "code",
   "execution_count": 57,
   "metadata": {
    "ExecuteTime": {
     "end_time": "2020-11-11T07:50:17.155671Z",
     "start_time": "2020-11-11T07:50:16.952671Z"
    }
   },
   "outputs": [],
   "source": [
    "batch_size = 128\n",
    "learning_rate = 0.01\n",
    "num_epoches = 1000\n",
    "\n",
    "transform_train = transforms.Compose([\n",
    "    transforms.RandomCrop(32, padding=4),  #先四周填充0，在吧图像随机裁剪成32*32\n",
    "    transforms.RandomHorizontalFlip(),  #图像一半的概率翻转，一半的概率不翻转\n",
    "    transforms.ToTensor(),\n",
    "    transforms.Normalize((0.4914, 0.4822, 0.4465), (0.2023, 0.1994, 0.2010)), #R,G,B每层的归一化用到的均值和方差\n",
    "])\n",
    "\n",
    "transform_test = transforms.Compose([\n",
    "    transforms.ToTensor(),\n",
    "    transforms.Normalize((0.4914, 0.4822, 0.4465), (0.2023, 0.1994, 0.2010)),\n",
    "])\n",
    "\n",
    "test_dataset = cifar_10('data/cifar-10-batches-py',\n",
    "                        train=False, transform=transform_test)\n",
    "meta=unpickle('data/cifar-10-batches-py/batches.meta')\n",
    "\n",
    "test_loader = DataLoader(test_dataset, batch_size=batch_size, shuffle=False)\n",
    "\n",
    "train_datasetList = [ cifar_10('data/cifar-10-batches-py',\n",
    "                         train=True, transform=transform_train,index=i+1) for i in range(5)]\n",
    "train_loaderList=[DataLoader(t, batch_size=batch_size, shuffle=True) for t in train_datasetList]\n",
    "\n",
    "# 定义loss和optimizer\n",
    "criterion = nn.CrossEntropyLoss()\n",
    "# optimizer = optim.SGD(model.parameters(), lr=learning_rate)\n",
    "optimizer = optim.SGD(model.parameters(), lr=learning_rate, momentum=0.9, weight_decay=5e-4) #优化方式为mini-batch momentum-SGD，并采用L2正则化（权重衰减）\n",
    "\n",
    "\n",
    "\n"
   ]
  },
  {
   "cell_type": "code",
   "execution_count": 59,
   "metadata": {
    "ExecuteTime": {
     "end_time": "2020-11-11T07:50:20.850938Z",
     "start_time": "2020-11-11T07:50:20.840968Z"
    }
   },
   "outputs": [],
   "source": [
    "res={}\n",
    "epoch=1"
   ]
  },
  {
   "cell_type": "code",
   "execution_count": null,
   "metadata": {
    "ExecuteTime": {
     "start_time": "2020-11-11T07:50:21.830Z"
    },
    "scrolled": true
   },
   "outputs": [
    {
     "name": "stdout",
     "output_type": "stream",
     "text": [
      "Train Epoch: 1/200:\n",
      "Train Epoch: 1000 [10000/10000 (100%)]\tLoss: 2.280154\n",
      "Train Epoch: 1000 [10000/10000 (100%)]\tLoss: 2.296269\n",
      "Train Epoch: 1000 [10000/10000 (100%)]\tLoss: 2.297452\n",
      "Train Epoch: 1000 [10000/10000 (100%)]\tLoss: 1.821688\n",
      "Train Epoch: 1000 [10000/10000 (100%)]\tLoss: 2.043881\n",
      "\n",
      "Test set: Average loss: 1.9474, Accuracy: 2934/10000 (29%)\n",
      "Train Epoch: 2/200:\n",
      "Train Epoch: 1000 [10000/10000 (100%)]\tLoss: 1.643064\n",
      "Train Epoch: 1000 [10000/10000 (100%)]\tLoss: 1.667260\n",
      "Train Epoch: 1000 [10000/10000 (100%)]\tLoss: 1.800384\n",
      "Train Epoch: 1000 [10000/10000 (100%)]\tLoss: 1.889267\n",
      "Train Epoch: 1000 [10000/10000 (100%)]\tLoss: 2.054742\n",
      "\n",
      "Test set: Average loss: 1.7926, Accuracy: 3555/10000 (36%)\n",
      "Train Epoch: 3/200:\n",
      "Train Epoch: 1000 [10000/10000 (100%)]\tLoss: 1.744999\n",
      "Train Epoch: 1000 [10000/10000 (100%)]\tLoss: 1.443986\n",
      "Train Epoch: 1000 [10000/10000 (100%)]\tLoss: 1.822229\n",
      "Train Epoch: 1000 [10000/10000 (100%)]\tLoss: 1.823811\n",
      "Train Epoch: 1000 [10000/10000 (100%)]\tLoss: 1.694647\n",
      "\n",
      "Test set: Average loss: 1.6182, Accuracy: 4264/10000 (43%)\n",
      "Train Epoch: 4/200:\n",
      "Train Epoch: 1000 [10000/10000 (100%)]\tLoss: 1.602050\n",
      "Train Epoch: 1000 [10000/10000 (100%)]\tLoss: 1.601245\n",
      "Train Epoch: 1000 [10000/10000 (100%)]\tLoss: 1.215539\n",
      "Train Epoch: 1000 [10000/10000 (100%)]\tLoss: 1.462658\n",
      "Train Epoch: 1000 [10000/10000 (100%)]\tLoss: 1.624629\n",
      "\n",
      "Test set: Average loss: 1.5148, Accuracy: 4518/10000 (45%)\n",
      "Train Epoch: 5/200:\n",
      "Train Epoch: 1000 [10000/10000 (100%)]\tLoss: 1.630380\n",
      "Train Epoch: 1000 [10000/10000 (100%)]\tLoss: 1.930308\n",
      "Train Epoch: 1000 [10000/10000 (100%)]\tLoss: 1.406691\n",
      "Train Epoch: 1000 [10000/10000 (100%)]\tLoss: 1.735462\n",
      "Train Epoch: 1000 [10000/10000 (100%)]\tLoss: 1.847137\n",
      "\n",
      "Test set: Average loss: 1.4658, Accuracy: 4757/10000 (48%)\n",
      "Train Epoch: 6/200:\n",
      "Train Epoch: 1000 [10000/10000 (100%)]\tLoss: 1.539312\n",
      "Train Epoch: 1000 [10000/10000 (100%)]\tLoss: 1.419178\n",
      "Train Epoch: 1000 [10000/10000 (100%)]\tLoss: 1.379801\n",
      "Train Epoch: 1000 [10000/10000 (100%)]\tLoss: 1.362095\n",
      "Train Epoch: 1000 [10000/10000 (100%)]\tLoss: 1.435141\n",
      "\n",
      "Test set: Average loss: 1.4100, Accuracy: 4955/10000 (50%)\n",
      "Train Epoch: 7/200:\n",
      "Train Epoch: 1000 [10000/10000 (100%)]\tLoss: 1.833646\n",
      "Train Epoch: 1000 [10000/10000 (100%)]\tLoss: 1.293977\n",
      "Train Epoch: 1000 [10000/10000 (100%)]\tLoss: 1.428759\n",
      "Train Epoch: 1000 [10000/10000 (100%)]\tLoss: 2.072942\n",
      "Train Epoch: 1000 [10000/10000 (100%)]\tLoss: 1.845215\n",
      "\n",
      "Test set: Average loss: 1.4335, Accuracy: 4968/10000 (50%)\n",
      "Train Epoch: 8/200:\n",
      "Train Epoch: 1000 [10000/10000 (100%)]\tLoss: 1.682541\n",
      "Train Epoch: 1000 [10000/10000 (100%)]\tLoss: 1.878818\n",
      "Train Epoch: 1000 [10000/10000 (100%)]\tLoss: 1.410051\n",
      "Train Epoch: 1000 [10000/10000 (100%)]\tLoss: 1.495317\n",
      "Train Epoch: 1000 [10000/10000 (100%)]\tLoss: 1.657168\n",
      "\n",
      "Test set: Average loss: 1.3708, Accuracy: 5102/10000 (51%)\n",
      "Train Epoch: 9/200:\n",
      "Train Epoch: 1000 [10000/10000 (100%)]\tLoss: 1.219783\n",
      "Train Epoch: 1000 [10000/10000 (100%)]\tLoss: 1.898126\n",
      "Train Epoch: 1000 [10000/10000 (100%)]\tLoss: 1.375433\n",
      "Train Epoch: 1000 [10000/10000 (100%)]\tLoss: 1.368716\n",
      "Train Epoch: 1000 [10000/10000 (100%)]\tLoss: 0.973846\n",
      "\n",
      "Test set: Average loss: 1.3398, Accuracy: 5119/10000 (51%)\n",
      "Train Epoch: 10/200:\n",
      "Train Epoch: 1000 [10000/10000 (100%)]\tLoss: 1.018734\n",
      "Train Epoch: 1000 [10000/10000 (100%)]\tLoss: 1.650393\n",
      "Train Epoch: 1000 [10000/10000 (100%)]\tLoss: 1.139674\n",
      "Train Epoch: 1000 [10000/10000 (100%)]\tLoss: 1.441952\n",
      "Train Epoch: 1000 [10000/10000 (100%)]\tLoss: 1.625123\n",
      "\n",
      "Test set: Average loss: 1.3033, Accuracy: 5343/10000 (53%)\n",
      "Train Epoch: 11/200:\n",
      "Train Epoch: 1000 [10000/10000 (100%)]\tLoss: 1.540127\n",
      "Train Epoch: 1000 [10000/10000 (100%)]\tLoss: 1.402986\n",
      "Train Epoch: 1000 [10000/10000 (100%)]\tLoss: 1.550216\n",
      "Train Epoch: 1000 [10000/10000 (100%)]\tLoss: 1.496696\n",
      "Train Epoch: 1000 [10000/10000 (100%)]\tLoss: 1.197693\n",
      "\n",
      "Test set: Average loss: 1.2722, Accuracy: 5470/10000 (55%)\n",
      "Train Epoch: 12/200:\n",
      "Train Epoch: 1000 [10000/10000 (100%)]\tLoss: 1.075082\n",
      "Train Epoch: 1000 [10000/10000 (100%)]\tLoss: 1.160077\n",
      "Train Epoch: 1000 [10000/10000 (100%)]\tLoss: 1.166946\n",
      "Train Epoch: 1000 [10000/10000 (100%)]\tLoss: 1.430668\n",
      "Train Epoch: 1000 [10000/10000 (100%)]\tLoss: 0.966239\n",
      "\n",
      "Test set: Average loss: 1.2681, Accuracy: 5516/10000 (55%)\n",
      "Train Epoch: 13/200:\n",
      "Train Epoch: 1000 [10000/10000 (100%)]\tLoss: 1.402096\n",
      "Train Epoch: 1000 [10000/10000 (100%)]\tLoss: 1.059179\n",
      "Train Epoch: 1000 [10000/10000 (100%)]\tLoss: 1.450194\n",
      "Train Epoch: 1000 [10000/10000 (100%)]\tLoss: 0.766464\n",
      "Train Epoch: 1000 [10000/10000 (100%)]\tLoss: 1.315793\n",
      "\n",
      "Test set: Average loss: 1.2681, Accuracy: 5450/10000 (54%)\n",
      "Train Epoch: 14/200:\n",
      "Train Epoch: 1000 [10000/10000 (100%)]\tLoss: 1.373931\n",
      "Train Epoch: 1000 [10000/10000 (100%)]\tLoss: 1.225496\n",
      "Train Epoch: 1000 [10000/10000 (100%)]\tLoss: 1.192554\n",
      "Train Epoch: 1000 [10000/10000 (100%)]\tLoss: 1.431049\n",
      "Train Epoch: 1000 [10000/10000 (100%)]\tLoss: 1.448973\n",
      "\n",
      "Test set: Average loss: 1.2487, Accuracy: 5487/10000 (55%)\n",
      "Train Epoch: 15/200:\n",
      "Train Epoch: 1000 [10000/10000 (100%)]\tLoss: 1.416500\n",
      "Train Epoch: 1000 [10000/10000 (100%)]\tLoss: 1.655180\n",
      "Train Epoch: 1000 [10000/10000 (100%)]\tLoss: 1.137372\n",
      "Train Epoch: 1000 [10000/10000 (100%)]\tLoss: 1.096710\n",
      "Train Epoch: 1000 [10000/10000 (100%)]\tLoss: 1.343992\n",
      "\n",
      "Test set: Average loss: 1.2165, Accuracy: 5708/10000 (57%)\n",
      "Train Epoch: 16/200:\n",
      "Train Epoch: 1000 [10000/10000 (100%)]\tLoss: 1.335269\n",
      "Train Epoch: 1000 [10000/10000 (100%)]\tLoss: 1.827162\n",
      "Train Epoch: 1000 [10000/10000 (100%)]\tLoss: 1.302742\n",
      "Train Epoch: 1000 [10000/10000 (100%)]\tLoss: 1.439553\n",
      "Train Epoch: 1000 [10000/10000 (100%)]\tLoss: 1.208790\n",
      "\n",
      "Test set: Average loss: 1.2100, Accuracy: 5701/10000 (57%)\n",
      "Train Epoch: 17/200:\n",
      "Train Epoch: 1000 [10000/10000 (100%)]\tLoss: 1.731027\n",
      "Train Epoch: 1000 [10000/10000 (100%)]\tLoss: 1.015527\n",
      "Train Epoch: 1000 [10000/10000 (100%)]\tLoss: 1.383928\n",
      "Train Epoch: 1000 [10000/10000 (100%)]\tLoss: 1.505424\n",
      "Train Epoch: 1000 [10000/10000 (100%)]\tLoss: 1.484506\n",
      "\n",
      "Test set: Average loss: 1.2009, Accuracy: 5722/10000 (57%)\n",
      "Train Epoch: 18/200:\n",
      "Train Epoch: 1000 [10000/10000 (100%)]\tLoss: 1.508395\n",
      "Train Epoch: 1000 [10000/10000 (100%)]\tLoss: 1.075917\n",
      "Train Epoch: 1000 [10000/10000 (100%)]\tLoss: 0.901848\n",
      "Train Epoch: 1000 [10000/10000 (100%)]\tLoss: 1.096628\n",
      "Train Epoch: 1000 [10000/10000 (100%)]\tLoss: 1.616243\n",
      "\n",
      "Test set: Average loss: 1.1756, Accuracy: 5899/10000 (59%)\n",
      "Train Epoch: 19/200:\n",
      "Train Epoch: 1000 [10000/10000 (100%)]\tLoss: 1.564061\n",
      "Train Epoch: 1000 [10000/10000 (100%)]\tLoss: 1.684208\n",
      "Train Epoch: 1000 [10000/10000 (100%)]\tLoss: 1.262644\n",
      "Train Epoch: 1000 [10000/10000 (100%)]\tLoss: 0.989978\n",
      "Train Epoch: 1000 [10000/10000 (100%)]\tLoss: 1.651272\n",
      "\n",
      "Test set: Average loss: 1.1819, Accuracy: 5749/10000 (57%)\n",
      "Train Epoch: 20/200:\n",
      "Train Epoch: 1000 [10000/10000 (100%)]\tLoss: 1.482578\n",
      "Train Epoch: 1000 [10000/10000 (100%)]\tLoss: 1.076133\n",
      "Train Epoch: 1000 [10000/10000 (100%)]\tLoss: 1.066282\n",
      "Train Epoch: 1000 [10000/10000 (100%)]\tLoss: 1.195371\n",
      "Train Epoch: 1000 [10000/10000 (100%)]\tLoss: 1.118802\n",
      "\n",
      "Test set: Average loss: 1.1931, Accuracy: 5723/10000 (57%)\n",
      "Train Epoch: 21/200:\n",
      "Train Epoch: 1000 [10000/10000 (100%)]\tLoss: 1.341888\n",
      "Train Epoch: 1000 [10000/10000 (100%)]\tLoss: 1.402448\n",
      "Train Epoch: 1000 [10000/10000 (100%)]\tLoss: 1.331204\n",
      "Train Epoch: 1000 [10000/10000 (100%)]\tLoss: 1.407390\n",
      "Train Epoch: 1000 [10000/10000 (100%)]\tLoss: 1.407808\n",
      "\n",
      "Test set: Average loss: 1.1385, Accuracy: 5985/10000 (60%)\n",
      "Train Epoch: 22/200:\n",
      "Train Epoch: 1000 [10000/10000 (100%)]\tLoss: 1.083441\n",
      "Train Epoch: 1000 [10000/10000 (100%)]\tLoss: 0.965999\n",
      "Train Epoch: 1000 [10000/10000 (100%)]\tLoss: 1.044846\n",
      "Train Epoch: 1000 [10000/10000 (100%)]\tLoss: 1.552328\n",
      "Train Epoch: 1000 [10000/10000 (100%)]\tLoss: 1.352569\n",
      "\n",
      "Test set: Average loss: 1.1315, Accuracy: 5966/10000 (60%)\n",
      "Train Epoch: 23/200:\n",
      "Train Epoch: 1000 [10000/10000 (100%)]\tLoss: 1.239278\n",
      "Train Epoch: 1000 [10000/10000 (100%)]\tLoss: 1.111503\n",
      "Train Epoch: 1000 [10000/10000 (100%)]\tLoss: 1.046527\n",
      "Train Epoch: 1000 [10000/10000 (100%)]\tLoss: 1.120289\n",
      "Train Epoch: 1000 [10000/10000 (100%)]\tLoss: 1.611552\n",
      "\n",
      "Test set: Average loss: 1.1142, Accuracy: 6085/10000 (61%)\n",
      "Train Epoch: 24/200:\n",
      "Train Epoch: 1000 [10000/10000 (100%)]\tLoss: 1.116341\n",
      "Train Epoch: 1000 [10000/10000 (100%)]\tLoss: 1.280833\n"
     ]
    },
    {
     "name": "stdout",
     "output_type": "stream",
     "text": [
      "Train Epoch: 1000 [10000/10000 (100%)]\tLoss: 1.869875\n",
      "Train Epoch: 1000 [10000/10000 (100%)]\tLoss: 1.439947\n",
      "Train Epoch: 1000 [10000/10000 (100%)]\tLoss: 1.198881\n",
      "\n",
      "Test set: Average loss: 1.1369, Accuracy: 5970/10000 (60%)\n",
      "Train Epoch: 25/200:\n",
      "Train Epoch: 1000 [10000/10000 (100%)]\tLoss: 0.848791\n",
      "Train Epoch: 1000 [10000/10000 (100%)]\tLoss: 1.324413\n",
      "Train Epoch: 1000 [10000/10000 (100%)]\tLoss: 1.127230\n",
      "Train Epoch: 1000 [10000/10000 (100%)]\tLoss: 1.458015\n",
      "Train Epoch: 1000 [10000/10000 (100%)]\tLoss: 1.282577\n",
      "\n",
      "Test set: Average loss: 1.1238, Accuracy: 6039/10000 (60%)\n",
      "Train Epoch: 26/200:\n",
      "Train Epoch: 1000 [10000/10000 (100%)]\tLoss: 1.647280\n",
      "Train Epoch: 1000 [10000/10000 (100%)]\tLoss: 1.516917\n",
      "Train Epoch: 1000 [10000/10000 (100%)]\tLoss: 1.523577\n",
      "Train Epoch: 1000 [10000/10000 (100%)]\tLoss: 1.101692\n",
      "Train Epoch: 1000 [10000/10000 (100%)]\tLoss: 1.277556\n",
      "\n",
      "Test set: Average loss: 1.1176, Accuracy: 6054/10000 (61%)\n",
      "Train Epoch: 27/200:\n",
      "Train Epoch: 1000 [10000/10000 (100%)]\tLoss: 0.642860\n",
      "Train Epoch: 1000 [10000/10000 (100%)]\tLoss: 1.495875\n",
      "Train Epoch: 1000 [10000/10000 (100%)]\tLoss: 0.988596\n",
      "Train Epoch: 1000 [10000/10000 (100%)]\tLoss: 1.421035\n",
      "Train Epoch: 1000 [10000/10000 (100%)]\tLoss: 1.104057\n",
      "\n",
      "Test set: Average loss: 1.1076, Accuracy: 6155/10000 (62%)\n",
      "Train Epoch: 28/200:\n",
      "Train Epoch: 1000 [10000/10000 (100%)]\tLoss: 1.315630\n",
      "Train Epoch: 1000 [10000/10000 (100%)]\tLoss: 0.724856\n",
      "Train Epoch: 1000 [10000/10000 (100%)]\tLoss: 1.100256\n",
      "Train Epoch: 1000 [10000/10000 (100%)]\tLoss: 1.235425\n",
      "Train Epoch: 1000 [10000/10000 (100%)]\tLoss: 1.183307\n",
      "\n",
      "Test set: Average loss: 1.1345, Accuracy: 6004/10000 (60%)\n",
      "Train Epoch: 29/200:\n",
      "Train Epoch: 1000 [10000/10000 (100%)]\tLoss: 0.892202\n",
      "Train Epoch: 1000 [10000/10000 (100%)]\tLoss: 1.125914\n",
      "Train Epoch: 1000 [10000/10000 (100%)]\tLoss: 1.095886\n",
      "Train Epoch: 1000 [10000/10000 (100%)]\tLoss: 1.010494\n",
      "Train Epoch: 1000 [10000/10000 (100%)]\tLoss: 1.130528\n",
      "\n",
      "Test set: Average loss: 1.1003, Accuracy: 6180/10000 (62%)\n",
      "Train Epoch: 30/200:\n",
      "Train Epoch: 1000 [10000/10000 (100%)]\tLoss: 1.401883\n",
      "Train Epoch: 1000 [10000/10000 (100%)]\tLoss: 0.941444\n",
      "Train Epoch: 1000 [10000/10000 (100%)]\tLoss: 1.411635\n",
      "Train Epoch: 1000 [10000/10000 (100%)]\tLoss: 1.382141\n",
      "Train Epoch: 1000 [10000/10000 (100%)]\tLoss: 1.545678\n",
      "\n",
      "Test set: Average loss: 1.0642, Accuracy: 6269/10000 (63%)\n",
      "Train Epoch: 31/200:\n",
      "Train Epoch: 1000 [10000/10000 (100%)]\tLoss: 1.735738\n",
      "Train Epoch: 1000 [10000/10000 (100%)]\tLoss: 1.234635\n",
      "Train Epoch: 1000 [10000/10000 (100%)]\tLoss: 1.120613\n",
      "Train Epoch: 1000 [10000/10000 (100%)]\tLoss: 1.190203\n",
      "Train Epoch: 1000 [10000/10000 (100%)]\tLoss: 1.124629\n",
      "\n",
      "Test set: Average loss: 1.0856, Accuracy: 6147/10000 (61%)\n",
      "Train Epoch: 32/200:\n",
      "Train Epoch: 1000 [10000/10000 (100%)]\tLoss: 1.261056\n",
      "Train Epoch: 1000 [10000/10000 (100%)]\tLoss: 1.368601\n",
      "Train Epoch: 1000 [10000/10000 (100%)]\tLoss: 1.323181\n",
      "Train Epoch: 1000 [10000/10000 (100%)]\tLoss: 0.812697\n",
      "Train Epoch: 1000 [10000/10000 (100%)]\tLoss: 1.696342\n",
      "\n",
      "Test set: Average loss: 1.1237, Accuracy: 6115/10000 (61%)\n",
      "Train Epoch: 33/200:\n",
      "Train Epoch: 1000 [10000/10000 (100%)]\tLoss: 1.677982\n",
      "Train Epoch: 1000 [10000/10000 (100%)]\tLoss: 1.272124\n",
      "Train Epoch: 1000 [10000/10000 (100%)]\tLoss: 1.489592\n",
      "Train Epoch: 1000 [10000/10000 (100%)]\tLoss: 1.668664\n",
      "Train Epoch: 1000 [10000/10000 (100%)]\tLoss: 0.917721\n",
      "\n",
      "Test set: Average loss: 1.0578, Accuracy: 6353/10000 (64%)\n",
      "Train Epoch: 34/200:\n",
      "Train Epoch: 1000 [10000/10000 (100%)]\tLoss: 1.656218\n",
      "Train Epoch: 1000 [10000/10000 (100%)]\tLoss: 1.442393\n",
      "Train Epoch: 1000 [10000/10000 (100%)]\tLoss: 1.435211\n",
      "Train Epoch: 1000 [10000/10000 (100%)]\tLoss: 1.228841\n",
      "Train Epoch: 1000 [10000/10000 (100%)]\tLoss: 1.115767\n",
      "\n",
      "Test set: Average loss: 1.0792, Accuracy: 6186/10000 (62%)\n",
      "Train Epoch: 35/200:\n",
      "Train Epoch: 1000 [10000/10000 (100%)]\tLoss: 1.317966\n",
      "Train Epoch: 1000 [10000/10000 (100%)]\tLoss: 1.159634\n",
      "Train Epoch: 1000 [10000/10000 (100%)]\tLoss: 1.250200\n",
      "Train Epoch: 1000 [10000/10000 (100%)]\tLoss: 0.898482\n",
      "Train Epoch: 1000 [10000/10000 (100%)]\tLoss: 1.196510\n",
      "\n",
      "Test set: Average loss: 1.0682, Accuracy: 6280/10000 (63%)\n",
      "Train Epoch: 36/200:\n",
      "Train Epoch: 1000 [10000/10000 (100%)]\tLoss: 0.872615\n",
      "Train Epoch: 1000 [10000/10000 (100%)]\tLoss: 1.250166\n",
      "Train Epoch: 1000 [10000/10000 (100%)]\tLoss: 1.749752\n",
      "Train Epoch: 1000 [10000/10000 (100%)]\tLoss: 0.887943\n",
      "Train Epoch: 1000 [10000/10000 (100%)]\tLoss: 1.629375\n",
      "\n",
      "Test set: Average loss: 1.0797, Accuracy: 6237/10000 (62%)\n",
      "Train Epoch: 37/200:\n",
      "Train Epoch: 1000 [10000/10000 (100%)]\tLoss: 1.165549\n",
      "Train Epoch: 1000 [10000/10000 (100%)]\tLoss: 1.293959\n",
      "Train Epoch: 1000 [10000/10000 (100%)]\tLoss: 0.968655\n",
      "Train Epoch: 1000 [10000/10000 (100%)]\tLoss: 0.739923\n",
      "Train Epoch: 1000 [10000/10000 (100%)]\tLoss: 1.107502\n",
      "\n",
      "Test set: Average loss: 1.0743, Accuracy: 6214/10000 (62%)\n",
      "Train Epoch: 38/200:\n",
      "Train Epoch: 1000 [10000/10000 (100%)]\tLoss: 1.295855\n",
      "Train Epoch: 1000 [10000/10000 (100%)]\tLoss: 0.939077\n",
      "Train Epoch: 1000 [10000/10000 (100%)]\tLoss: 0.933938\n",
      "Train Epoch: 1000 [10000/10000 (100%)]\tLoss: 1.242485\n",
      "Train Epoch: 1000 [10000/10000 (100%)]\tLoss: 0.892783\n",
      "\n",
      "Test set: Average loss: 1.0738, Accuracy: 6146/10000 (61%)\n",
      "Train Epoch: 39/200:\n",
      "Train Epoch: 1000 [10000/10000 (100%)]\tLoss: 0.863714\n",
      "Train Epoch: 1000 [10000/10000 (100%)]\tLoss: 1.119997\n",
      "Train Epoch: 1000 [10000/10000 (100%)]\tLoss: 1.438524\n",
      "Train Epoch: 1000 [10000/10000 (100%)]\tLoss: 1.078702\n",
      "Train Epoch: 1000 [10000/10000 (100%)]\tLoss: 1.323870\n",
      "\n",
      "Test set: Average loss: 1.0925, Accuracy: 6163/10000 (62%)\n",
      "Train Epoch: 40/200:\n",
      "Train Epoch: 1000 [10000/10000 (100%)]\tLoss: 1.535002\n",
      "Train Epoch: 1000 [10000/10000 (100%)]\tLoss: 1.081565\n",
      "Train Epoch: 1000 [10000/10000 (100%)]\tLoss: 0.705879\n",
      "Train Epoch: 1000 [10000/10000 (100%)]\tLoss: 1.316277\n",
      "Train Epoch: 1000 [10000/10000 (100%)]\tLoss: 1.017539\n",
      "\n",
      "Test set: Average loss: 1.0496, Accuracy: 6293/10000 (63%)\n",
      "Train Epoch: 41/200:\n",
      "Train Epoch: 1000 [10000/10000 (100%)]\tLoss: 1.546797\n",
      "Train Epoch: 1000 [10000/10000 (100%)]\tLoss: 1.422210\n",
      "Train Epoch: 1000 [10000/10000 (100%)]\tLoss: 1.066059\n"
     ]
    }
   ],
   "source": [
    "epochs=200\n",
    "\n",
    "while real_epoch<=epochs:\n",
    "    print('Train Epoch: {}/{}:'.format(epoch,epochs))\n",
    "    for t in train_loaderList:\n",
    "        train(model,num_epoches,criterion,optimizer,t,log)\n",
    "    if(epoch%(1)==0):\n",
    "        acc, loss = test(model, 1, criterion, test_loader,log)\n",
    "    epoch+=1\n",
    "\n",
    "torch.save(model.state_dict(),PATH)\n",
    "log.close()"
   ]
  },
  {
   "cell_type": "code",
   "execution_count": 15,
   "metadata": {
    "ExecuteTime": {
     "end_time": "2020-11-11T01:16:47.531103Z",
     "start_time": "2020-11-11T01:16:47.400109Z"
    },
    "scrolled": true
   },
   "outputs": [],
   "source": [
    "torch.save(model.state_dict(), PATH)"
   ]
  },
  {
   "cell_type": "code",
   "execution_count": null,
   "metadata": {
    "ExecuteTime": {
     "start_time": "2020-11-10T13:59:13.016Z"
    },
    "scrolled": true
   },
   "outputs": [],
   "source": [
    "test_visual(model,'data/cifar-10-batches-py',meta,transform_t)"
   ]
  },
  {
   "cell_type": "code",
   "execution_count": 55,
   "metadata": {
    "ExecuteTime": {
     "end_time": "2020-11-11T07:47:21.442041Z",
     "start_time": "2020-11-11T07:47:19.057986Z"
    }
   },
   "outputs": [
    {
     "name": "stdout",
     "output_type": "stream",
     "text": [
      "\n",
      "Test set: Average loss: 2.3147, Accuracy: 1000/10000 (10%)\n"
     ]
    },
    {
     "data": {
      "text/plain": [
       "(tensor(0.1000), tensor(2.3147, device='cuda:0'))"
      ]
     },
     "execution_count": 55,
     "metadata": {},
     "output_type": "execute_result"
    }
   ],
   "source": [
    "test(model, 1, nn.CrossEntropyLoss(), test_loader)"
   ]
  },
  {
   "cell_type": "code",
   "execution_count": 23,
   "metadata": {
    "ExecuteTime": {
     "end_time": "2020-11-11T06:03:08.617084Z",
     "start_time": "2020-11-11T06:03:08.600083Z"
    }
   },
   "outputs": [],
   "source": [
    "log.close()"
   ]
  }
 ],
 "metadata": {
  "kernelspec": {
   "display_name": "Python 3.7.6 64-bit ('base': conda)",
   "language": "python",
   "name": "python37664bitbaseconda4695e5f7bc8c4dc3ac8217854788797a"
  },
  "language_info": {
   "codemirror_mode": {
    "name": "ipython",
    "version": 3
   },
   "file_extension": ".py",
   "mimetype": "text/x-python",
   "name": "python",
   "nbconvert_exporter": "python",
   "pygments_lexer": "ipython3",
   "version": "3.7.6"
  },
  "varInspector": {
   "cols": {
    "lenName": 16,
    "lenType": 16,
    "lenVar": 40
   },
   "kernels_config": {
    "python": {
     "delete_cmd_postfix": "",
     "delete_cmd_prefix": "del ",
     "library": "var_list.py",
     "varRefreshCmd": "print(var_dic_list())"
    },
    "r": {
     "delete_cmd_postfix": ") ",
     "delete_cmd_prefix": "rm(",
     "library": "var_list.r",
     "varRefreshCmd": "cat(var_dic_list()) "
    }
   },
   "position": {
    "height": "754.398px",
    "left": "953px",
    "right": "20px",
    "top": "91px",
    "width": "800px"
   },
   "types_to_exclude": [
    "module",
    "function",
    "builtin_function_or_method",
    "instance",
    "_Feature"
   ],
   "window_display": false
  }
 },
 "nbformat": 4,
 "nbformat_minor": 4
}
