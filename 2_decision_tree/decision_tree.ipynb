{
 "cells": [
  {
   "cell_type": "code",
   "execution_count": 1,
   "metadata": {
    "ExecuteTime": {
     "end_time": "2020-09-24T05:37:43.161427Z",
     "start_time": "2020-09-24T05:37:42.751970Z"
    }
   },
   "outputs": [],
   "source": [
    "import pandas as pd\n",
    "from math import log\n",
    "from collections import Counter\n",
    "log2=lambda x:log(x)/log(2)"
   ]
  },
  {
   "cell_type": "code",
   "execution_count": 2,
   "metadata": {
    "ExecuteTime": {
     "end_time": "2020-09-24T05:37:43.267109Z",
     "start_time": "2020-09-24T05:37:43.260127Z"
    }
   },
   "outputs": [],
   "source": [
    "def rel_entropy(dataSet,feat):\n",
    "    currfeat=dataSet.loc[:,[feat,'Label']]\n",
    "    featCount=Counter(currfeat.iloc[:,0])\n",
    "    part_ent=0.0\n",
    "    ent=0.0\n",
    "    for feature in featCount:\n",
    "        proportion=featCount[feature]/dataSet.shape[0]\n",
    "        LabelCnt=Counter(currfeat.loc[currfeat[feat]==feature]['Label'])\n",
    "        totalCnt=sum(LabelCnt.values())\n",
    "        for r in LabelCnt.keys():\n",
    "            p=float(LabelCnt[r])/totalCnt\n",
    "            part_ent=part_ent-p*log2(p)\n",
    "        ent+=part_ent*proportion\n",
    "        part_ent=0\n",
    "    return ent"
   ]
  },
  {
   "cell_type": "code",
   "execution_count": 3,
   "metadata": {
    "ExecuteTime": {
     "end_time": "2020-09-24T05:37:43.290048Z",
     "start_time": "2020-09-24T05:37:43.285062Z"
    }
   },
   "outputs": [],
   "source": [
    "def entropy(dataSet,feature='Label'):\n",
    "    ent=0.0\n",
    "    exentCnt=Counter(dataSet.loc[:,feature])\n",
    "    for res in exentCnt:\n",
    "        p=float(exentCnt[res])/dataSet.shape[0]\n",
    "        ent-=p*log2(p)\n",
    "    return ent"
   ]
  },
  {
   "cell_type": "code",
   "execution_count": 4,
   "metadata": {
    "ExecuteTime": {
     "end_time": "2020-09-24T05:37:43.333930Z",
     "start_time": "2020-09-24T05:37:43.323956Z"
    }
   },
   "outputs": [],
   "source": [
    "def getBestSplit(dataSet,feat):\n",
    "    minGiniIndex=1.0\n",
    "    BestSplitVal=None\n",
    "    featLst=list(Counter(dataSet[feat]))\n",
    "    for featVal in featLst:\n",
    "        currfeat=dataSet.loc[:,[feat,'Label']]\n",
    "        featCount=Counter(currfeat.iloc[:,0])\n",
    "        oneSubtractGini=0.0\n",
    "        giniIndex=0.0\n",
    "        target_group=currfeat.loc[currfeat[feat]==featVal]['Label']\n",
    "        another_group=currfeat.loc[currfeat[feat]!=featVal]['Label']\n",
    "        portion=target_group.size/currfeat.shape[0]\n",
    "        targetCnt=Counter(target_group)\n",
    "        anotherCnt=Counter(another_group)\n",
    "        p1=float(targetCnt[0])/target_group.size\n",
    "        p2=float(anotherCnt[0])/another_group.size\n",
    "        giniIndex+=2*(1-p1)*p1*portion+(2*(1-p2)*p2)*(1-portion)\n",
    "        if(giniIndex<minGiniIndex):\n",
    "            BestSplitVal=featVal\n",
    "            minGiniIndex=giniIndex\n",
    "    return BestSplitVal,minGiniIndex"
   ]
  },
  {
   "cell_type": "code",
   "execution_count": 5,
   "metadata": {
    "ExecuteTime": {
     "end_time": "2020-09-24T05:37:43.376816Z",
     "start_time": "2020-09-24T05:37:43.368839Z"
    }
   },
   "outputs": [],
   "source": [
    "def getBestFeat_gini(dataSet):\n",
    "    minGiniIndex=1\n",
    "    BestFeat=None\n",
    "    BestFeatVal=None\n",
    "    giniIndex=1\n",
    "    currfeat=None\n",
    "    currfeatVal=None\n",
    "    for feat in dataSet.columns[:-1]:\n",
    "        featLst=list(Counter(dataSet[feat]))\n",
    "        if(len(featLst)==1):\n",
    "            pass\n",
    "        else:\n",
    "            currfeatVal,giniIndex=getBestSplit(dataSet,feat)\n",
    "            if giniIndex<minGiniIndex:\n",
    "                BestFeat=feat\n",
    "                BestFeatVal=currfeatVal\n",
    "                minGiniIndex=giniIndex\n",
    "    return BestFeat,BestFeatVal"
   ]
  },
  {
   "cell_type": "code",
   "execution_count": 6,
   "metadata": {
    "ExecuteTime": {
     "end_time": "2020-09-24T05:37:43.413720Z",
     "start_time": "2020-09-24T05:37:43.407736Z"
    }
   },
   "outputs": [],
   "source": [
    "def getBestFeature(dataSet,method='C4.5'):\n",
    "    maxEntGain=0.0\n",
    "    BestFeat=None\n",
    "    entGain=0.0\n",
    "    exEnt=entropy(dataSet)\n",
    "    for feat in dataSet.columns[:-1]:\n",
    "        entGain=exEnt-rel_entropy(dataSet,feat)\n",
    "        if method=='ID3':\n",
    "            pass\n",
    "        elif method=='C4.5':\n",
    "            entGain/=entropy(dataSet,feat)\n",
    "        if(maxEntGain<entGain):            \n",
    "            maxEntGain=entGain\n",
    "            BestFeat=feat\n",
    "    return BestFeat"
   ]
  },
  {
   "cell_type": "code",
   "execution_count": 7,
   "metadata": {
    "ExecuteTime": {
     "end_time": "2020-09-24T05:37:43.443636Z",
     "start_time": "2020-09-24T05:37:43.438650Z"
    }
   },
   "outputs": [],
   "source": [
    "class decisionnode:\n",
    "    def __init__(self,child,feature=None,result=None,method=None,CART_val=None):\n",
    "        self.feature=feature\n",
    "        self.result=result\n",
    "        self.child=child\n",
    "        self.CART_val=CART_val\n",
    "        self.method=method"
   ]
  },
  {
   "cell_type": "code",
   "execution_count": 8,
   "metadata": {
    "ExecuteTime": {
     "end_time": "2020-09-24T05:37:43.746977Z",
     "start_time": "2020-09-24T05:37:43.735998Z"
    }
   },
   "outputs": [],
   "source": [
    "def CreateTree(dataSet,featDict,method='C4.5',parent_res=-1):\n",
    "    child={}\n",
    "# 数据集为空，等于上一步没有分\n",
    "    if dataSet.empty:\n",
    "        return decisionnode(result=parent_res,feature=None,child=None)\n",
    "    resList=dataSet.loc[:,'Label']\n",
    "    labelCnt=Counter(resList)\n",
    "    parent_res=max(labelCnt, key=labelCnt.get)\n",
    "# 只有一种结果，已完全分开\n",
    "    if len(labelCnt)==1:\n",
    "        return decisionnode(result=resList.values[0],feature=None,child=None)\n",
    "# 没有可以分的特征了\n",
    "    if (dataSet.shape[1]==1) and (method!= 'CART'):\n",
    "        return decisionnode(result=parent_res,feature=None,child=None)\n",
    "    bestVal=None\n",
    "    if method=='CART':\n",
    "        bestfeat,bestVal=getBestFeat_gini(dataSet)\n",
    "#         print(bestfeat,\",\",bestVal)\n",
    "        if(bestfeat==None):\n",
    "#             print(labelCnt)\n",
    "            return decisionnode(result=0,feature=None,child=None)\n",
    "        else:\n",
    "#             print(dataSet[dataSet[bestfeat]==bestVal].drop(bestfeat,axis=1))\n",
    "#             print(dataSet[dataSet[bestfeat]!=bestVal])\n",
    "            child[True]=CreateTree(dataSet[dataSet[bestfeat]==bestVal],featDict,method,parent_res)\n",
    "            child[False]=CreateTree(dataSet[dataSet[bestfeat]!=bestVal],featDict,method,parent_res)\n",
    "    else:\n",
    "        bestfeat=getBestFeature(dataSet,method)\n",
    "        for label in featDict[bestfeat]:\n",
    "            child[label]=CreateTree(dataSet[dataSet[bestfeat]==label].drop(bestfeat,axis=1),featDict,method,parent_res)\n",
    "    \n",
    "    return decisionnode(child=child,feature=bestfeat,result=parent_res,method=method,CART_val=bestVal)"
   ]
  },
  {
   "cell_type": "code",
   "execution_count": 9,
   "metadata": {
    "ExecuteTime": {
     "end_time": "2020-09-24T05:37:44.139139Z",
     "start_time": "2020-09-24T05:37:44.054939Z"
    }
   },
   "outputs": [
    {
     "ename": "NameError",
     "evalue": "name 'ds' is not defined",
     "output_type": "error",
     "traceback": [
      "\u001b[1;31m---------------------------------------------------------------------------\u001b[0m",
      "\u001b[1;31mNameError\u001b[0m                                 Traceback (most recent call last)",
      "\u001b[1;32m<ipython-input-9-6f3dc289e623>\u001b[0m in \u001b[0;36m<module>\u001b[1;34m\u001b[0m\n\u001b[1;32m----> 1\u001b[1;33m \u001b[0mtree\u001b[0m\u001b[1;33m=\u001b[0m\u001b[0mCreateTree\u001b[0m\u001b[1;33m(\u001b[0m\u001b[0mds\u001b[0m\u001b[1;33m,\u001b[0m\u001b[0mcollect_feat\u001b[0m\u001b[1;33m(\u001b[0m\u001b[0mds\u001b[0m\u001b[1;33m)\u001b[0m\u001b[1;33m,\u001b[0m\u001b[1;34m'CART'\u001b[0m\u001b[1;33m)\u001b[0m\u001b[1;33m\u001b[0m\u001b[1;33m\u001b[0m\u001b[0m\n\u001b[0m",
      "\u001b[1;31mNameError\u001b[0m: name 'ds' is not defined"
     ]
    }
   ],
   "source": [
    "tree=CreateTree(ds,collect_feat(ds),'CART')"
   ]
  },
  {
   "cell_type": "code",
   "execution_count": 10,
   "metadata": {
    "ExecuteTime": {
     "end_time": "2020-09-24T05:37:44.337605Z",
     "start_time": "2020-09-24T05:37:44.334084Z"
    }
   },
   "outputs": [],
   "source": [
    "def collect_feat(dataSet):\n",
    "    featDict={}\n",
    "    for feat in dataSet.columns[:-1]:\n",
    "        featDict[feat]=list(Counter(dataSet[feat]))\n",
    "    return featDict"
   ]
  },
  {
   "cell_type": "code",
   "execution_count": 11,
   "metadata": {
    "ExecuteTime": {
     "end_time": "2020-09-24T05:37:44.857642Z",
     "start_time": "2020-09-24T05:37:44.850662Z"
    }
   },
   "outputs": [],
   "source": [
    "def k_fold(dataSet,k,i):\n",
    "    avg_size=dataSet.shape[0]/k\n",
    "    begin=int(avg_size*(i))\n",
    "    end=int(avg_size*(i+1))\n",
    "    train_set=dataSet.drop(labels=range(begin,end),axis=0)\n",
    "    return train_set, dataSet.loc[begin:end-1]"
   ]
  },
  {
   "cell_type": "code",
   "execution_count": 12,
   "metadata": {
    "ExecuteTime": {
     "end_time": "2020-09-24T05:37:45.262657Z",
     "start_time": "2020-09-24T05:37:45.256676Z"
    }
   },
   "outputs": [],
   "source": [
    "def classify(tree,target,featIndex=None):\n",
    "    if type(target)==pd.core.series.Series:\n",
    "        if tree.child!=None:\n",
    "            return classify(tree.child[target[tree.feature]],target,featIndex)\n",
    "        else:\n",
    "            return tree.result\n",
    "    else:   \n",
    "        if tree.child!=None:\n",
    "            return classify(tree.child[target[featIndex[tree.feature]]],target,featIndex)\n",
    "        else:\n",
    "            return tree.result"
   ]
  },
  {
   "cell_type": "code",
   "execution_count": 13,
   "metadata": {
    "ExecuteTime": {
     "end_time": "2020-09-24T05:37:45.676647Z",
     "start_time": "2020-09-24T05:37:45.669656Z"
    }
   },
   "outputs": [],
   "source": [
    "def classify_CART(tree,target,featIndex):\n",
    "    if type(target)==pd.core.series.Series:\n",
    "        if tree.child!=None:\n",
    "            return classify_CART(tree.child[target[tree.feature]==tree.CART_val],target,featIndex)\n",
    "        else:\n",
    "            return tree.result\n",
    "    else:   \n",
    "        if tree.child!=None:\n",
    "            return classify_CART(tree.child[target[featIndex[tree.feature]]==tree.CART_val],target,featIndex)\n",
    "        else:\n",
    "            return tree.result"
   ]
  },
  {
   "cell_type": "code",
   "execution_count": 14,
   "metadata": {
    "ExecuteTime": {
     "end_time": "2020-09-24T05:37:46.231260Z",
     "start_time": "2020-09-24T05:37:46.223244Z"
    }
   },
   "outputs": [],
   "source": [
    "def validate(tree,v_set):\n",
    "    featIndex={}\n",
    "    i=0\n",
    "    for feat in v_set.columns:\n",
    "        featIndex[feat]=i\n",
    "        i+=1\n",
    "    corrCnt=0\n",
    "    if tree.method=='CART':\n",
    "        for row in v_set.iterrows():\n",
    "            if classify_CART(tree,list(row[1]),featIndex)==v_set['Label'][row[0]]:\n",
    "                corrCnt+=1\n",
    "    else:\n",
    "        for row in v_set.iterrows():\n",
    "            if classify(tree,list(row[1]),featIndex)==v_set['Label'][row[0]]:\n",
    "                corrCnt+=1\n",
    "    return corrCnt/v_set.shape[0]"
   ]
  },
  {
   "cell_type": "code",
   "execution_count": 15,
   "metadata": {
    "ExecuteTime": {
     "end_time": "2020-09-24T05:37:46.701069Z",
     "start_time": "2020-09-24T05:37:46.696081Z"
    }
   },
   "outputs": [],
   "source": [
    "def train(dataSet,k,method='C4.5'):\n",
    "    accuracy=0.0\n",
    "    for i in range(k):\n",
    "        s1,s2=k_fold(dataSet,k,i)\n",
    "        tree=CreateTree(s1,collect_feat(dataSet),method)\n",
    "        currAc=validate(tree,s2)\n",
    "        accuracy+=currAc\n",
    "        print(i,\" finished, accuracy:\",currAc)\n",
    "    return accuracy/k"
   ]
  },
  {
   "cell_type": "code",
   "execution_count": 16,
   "metadata": {
    "ExecuteTime": {
     "end_time": "2020-09-24T05:37:48.103001Z",
     "start_time": "2020-09-24T05:37:48.092031Z"
    }
   },
   "outputs": [],
   "source": [
    "ds=pd.read_csv('lab2_dataset/car_train.csv')"
   ]
  },
  {
   "cell_type": "code",
   "execution_count": 17,
   "metadata": {
    "ExecuteTime": {
     "end_time": "2020-09-24T05:37:59.582158Z",
     "start_time": "2020-09-24T05:37:48.516433Z"
    }
   },
   "outputs": [
    {
     "name": "stdout",
     "output_type": "stream",
     "text": [
      "0  finished, accuracy: 0.9941860465116279\n",
      "1  finished, accuracy: 1.0\n",
      "2  finished, accuracy: 0.976878612716763\n",
      "3  finished, accuracy: 0.9884393063583815\n",
      "4  finished, accuracy: 0.9884393063583815\n",
      "5  finished, accuracy: 0.9767441860465116\n",
      "6  finished, accuracy: 0.9884393063583815\n",
      "7  finished, accuracy: 1.0\n",
      "8  finished, accuracy: 0.9884393063583815\n",
      "9  finished, accuracy: 0.976878612716763\n"
     ]
    },
    {
     "data": {
      "text/plain": [
       "0.9878444683425192"
      ]
     },
     "execution_count": 17,
     "metadata": {},
     "output_type": "execute_result"
    }
   ],
   "source": [
    "train(ds,10,'CART')"
   ]
  }
 ],
 "metadata": {
  "kernelspec": {
   "display_name": "Python 3.7.6 64-bit ('base': conda)",
   "language": "python",
   "name": "python37664bitbaseconda4695e5f7bc8c4dc3ac8217854788797a"
  },
  "language_info": {
   "codemirror_mode": {
    "name": "ipython",
    "version": 3
   },
   "file_extension": ".py",
   "mimetype": "text/x-python",
   "name": "python",
   "nbconvert_exporter": "python",
   "pygments_lexer": "ipython3",
   "version": "3.7.6"
  },
  "varInspector": {
   "cols": {
    "lenName": 16,
    "lenType": 16,
    "lenVar": 40
   },
   "kernels_config": {
    "python": {
     "delete_cmd_postfix": "",
     "delete_cmd_prefix": "del ",
     "library": "var_list.py",
     "varRefreshCmd": "print(var_dic_list())"
    },
    "r": {
     "delete_cmd_postfix": ") ",
     "delete_cmd_prefix": "rm(",
     "library": "var_list.r",
     "varRefreshCmd": "cat(var_dic_list()) "
    }
   },
   "position": {
    "height": "725px",
    "left": "1421px",
    "right": "20px",
    "top": "120px",
    "width": "319px"
   },
   "types_to_exclude": [
    "module",
    "function",
    "builtin_function_or_method",
    "instance",
    "_Feature"
   ],
   "window_display": false
  }
 },
 "nbformat": 4,
 "nbformat_minor": 4
}
