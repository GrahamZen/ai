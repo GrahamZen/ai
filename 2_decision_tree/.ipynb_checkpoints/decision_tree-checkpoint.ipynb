{
 "cells": [
  {
   "cell_type": "code",
   "execution_count": 28,
   "metadata": {
    "ExecuteTime": {
     "end_time": "2020-09-24T04:02:53.468926Z",
     "start_time": "2020-09-24T04:02:53.463941Z"
    }
   },
   "outputs": [],
   "source": [
    "import pandas as pd\n",
    "from math import log\n",
    "from collections import Counter\n",
    "log2=lambda x:log(x)/log(2)"
   ]
  },
  {
   "cell_type": "code",
   "execution_count": 29,
   "metadata": {
    "ExecuteTime": {
     "end_time": "2020-09-24T04:02:53.976586Z",
     "start_time": "2020-09-24T04:02:53.970602Z"
    }
   },
   "outputs": [],
   "source": [
    "def rel_entropy(dataSet,feat):\n",
    "    currfeat=dataSet.loc[:,[feat,'Label']]\n",
    "    featCount=Counter(currfeat.iloc[:,0])\n",
    "    part_ent=0.0\n",
    "    ent=0.0\n",
    "    for feature in featCount:\n",
    "        proportion=featCount[feature]/dataSet.shape[0]\n",
    "        LabelCnt=Counter(currfeat.loc[currfeat[feat]==feature]['Label'])\n",
    "        totalCnt=sum(LabelCnt.values())\n",
    "        for r in LabelCnt.keys():\n",
    "            p=float(LabelCnt[r])/totalCnt\n",
    "            part_ent=part_ent-p*log2(p)\n",
    "        ent+=part_ent*proportion\n",
    "        part_ent=0\n",
    "    return ent"
   ]
  },
  {
   "cell_type": "code",
   "execution_count": 30,
   "metadata": {
    "ExecuteTime": {
     "end_time": "2020-09-24T04:02:54.040417Z",
     "start_time": "2020-09-24T04:02:54.029444Z"
    }
   },
   "outputs": [
    {
     "data": {
      "text/plain": [
       "0.8528820777657283"
      ]
     },
     "execution_count": 30,
     "metadata": {},
     "output_type": "execute_result"
    }
   ],
   "source": [
    "rel_entropy(ds,'maint')"
   ]
  },
  {
   "cell_type": "code",
   "execution_count": 31,
   "metadata": {
    "ExecuteTime": {
     "end_time": "2020-09-24T04:02:54.060362Z",
     "start_time": "2020-09-24T04:02:54.054395Z"
    }
   },
   "outputs": [],
   "source": [
    "def entropy(dataSet,feature='Label'):\n",
    "    ent=0.0\n",
    "    exentCnt=Counter(dataSet.loc[:,feature])\n",
    "    for res in exentCnt:\n",
    "        p=float(exentCnt[res])/dataSet.shape[0]\n",
    "        ent-=p*log2(p)\n",
    "    return ent"
   ]
  },
  {
   "cell_type": "code",
   "execution_count": 68,
   "metadata": {
    "ExecuteTime": {
     "end_time": "2020-09-24T04:15:18.025184Z",
     "start_time": "2020-09-24T04:15:18.015212Z"
    }
   },
   "outputs": [],
   "source": [
    "def getBestSplit(dataSet,feat):\n",
    "    minGiniIndex=1.0\n",
    "    BestSplitVal=None\n",
    "    featLst=list(Counter(dataSet[feat]))\n",
    "    for featVal in featLst:\n",
    "        currfeat=dataSet.loc[:,[feat,'Label']]\n",
    "        featCount=Counter(currfeat.iloc[:,0])\n",
    "        oneSubtractGini=0.0\n",
    "        giniIndex=0.0\n",
    "        target_group=currfeat.loc[currfeat[feat]==featVal]['Label']\n",
    "        another_group=currfeat.loc[currfeat[feat]!=featVal]['Label']\n",
    "        portion=target_group.size/currfeat.shape[0]\n",
    "        targetCnt=Counter(target_group)\n",
    "        anotherCnt=Counter(another_group)\n",
    "        p1=float(targetCnt[0])/target_group.size\n",
    "        p2=float(anotherCnt[0])/another_group.size\n",
    "        giniIndex+=2*(1-p1)*p1*portion+(2*(1-p2)*p2)*(1-portion)\n",
    "        if(giniIndex<minGiniIndex):\n",
    "            BestSplitVal=featVal\n",
    "            minGiniIndex=giniIndex\n",
    "    return BestSplitVal,minGiniIndex"
   ]
  },
  {
   "cell_type": "code",
   "execution_count": 69,
   "metadata": {
    "ExecuteTime": {
     "end_time": "2020-09-24T04:15:18.779705Z",
     "start_time": "2020-09-24T04:15:18.773688Z"
    }
   },
   "outputs": [],
   "source": [
    "def getBestFeat_gini(dataSet):\n",
    "    minGiniIndex=1\n",
    "    BestFeat=None\n",
    "    BestFeatVal=None\n",
    "    giniIndex=1\n",
    "    currfeat=None\n",
    "    currfeatVal=None\n",
    "    for feat in dataSet.columns[:-1]:\n",
    "        featLst=list(Counter(dataSet[feat]))\n",
    "#         print(featLst,\"size:\",len(featLst))\n",
    "        if(len(featLst)==1):\n",
    "            pass\n",
    "        else:\n",
    "            currfeatVal,giniIndex=getBestSplit(dataSet,feat)\n",
    "            if giniIndex<minGiniIndex:\n",
    "                BestFeat=feat\n",
    "                BestFeatVal=currfeatVal\n",
    "    return BestFeat,BestFeatVal"
   ]
  },
  {
   "cell_type": "code",
   "execution_count": 62,
   "metadata": {
    "ExecuteTime": {
     "end_time": "2020-09-24T04:12:36.914514Z",
     "start_time": "2020-09-24T04:12:36.836143Z"
    }
   },
   "outputs": [
    {
     "name": "stdout",
     "output_type": "stream",
     "text": [
      "['high', 'vhigh', 'med', 'low']\n",
      "Counter({0: 324, 1: 108})\n",
      "Counter({0: 360, 1: 72})\n",
      "Counter({0: 268, 1: 164})\n",
      "Counter({0: 258, 1: 174})\n",
      "['vhigh', 'med', 'low', 'high']\n",
      "Counter({0: 360, 1: 72})\n",
      "Counter({0: 268, 1: 164})\n",
      "Counter({0: 268, 1: 164})\n",
      "Counter({0: 314, 1: 118})\n",
      "['3', '2', '4', '5more']\n",
      "Counter({0: 300, 1: 132})\n",
      "Counter({0: 326, 1: 106})\n",
      "Counter({0: 292, 1: 140})\n",
      "Counter({0: 292, 1: 140})\n",
      "['2', '4', 'more']\n",
      "Counter({0: 576})\n",
      "Counter({0: 312, 1: 264})\n",
      "Counter({0: 322, 1: 254})\n",
      "['small', 'big', 'med']\n",
      "Counter({0: 450, 1: 126})\n",
      "Counter({0: 368, 1: 208})\n",
      "Counter({0: 392, 1: 184})\n",
      "['high', 'low', 'med']\n",
      "Counter({1: 299, 0: 277})\n",
      "Counter({0: 576})\n",
      "Counter({0: 357, 1: 219})\n"
     ]
    },
    {
     "data": {
      "text/plain": [
       "('safety', 'low')"
      ]
     },
     "execution_count": 62,
     "metadata": {},
     "output_type": "execute_result"
    }
   ],
   "source": [
    "getBestFeat_gini(ds)"
   ]
  },
  {
   "cell_type": "code",
   "execution_count": 57,
   "metadata": {
    "ExecuteTime": {
     "end_time": "2020-09-24T04:08:50.335604Z",
     "start_time": "2020-09-24T04:08:50.329620Z"
    }
   },
   "outputs": [],
   "source": [
    "def getBestFeature(dataSet,method='C4.5'):\n",
    "    maxEntGain=0.0\n",
    "    BestFeat=None\n",
    "    entGain=0.0\n",
    "    exEnt=entropy(dataSet)\n",
    "    for feat in dataSet.columns[:-1]:\n",
    "        entGain=exEnt-rel_entropy(dataSet,feat)\n",
    "        if method=='ID3':\n",
    "            pass\n",
    "        elif method=='C4.5':\n",
    "            entGain/=entropy(dataSet,feat)\n",
    "        if(maxEntGain<entGain):            \n",
    "            maxEntGain=entGain\n",
    "            BestFeat=feat\n",
    "    return BestFeat"
   ]
  },
  {
   "cell_type": "code",
   "execution_count": null,
   "metadata": {
    "ExecuteTime": {
     "end_time": "2020-09-24T04:02:54.235152Z",
     "start_time": "2020-09-24T04:02:54.193Z"
    }
   },
   "outputs": [],
   "source": [
    "class decisionnode:\n",
    "    def __init__(self,child,feature=None,result=None,method=None,CART_val=None):\n",
    "        self.feature=feature\n",
    "        self.result=result\n",
    "        self.child=child\n",
    "        self.CART_val=CART_val\n",
    "        self.method=method"
   ]
  },
  {
   "cell_type": "code",
   "execution_count": 35,
   "metadata": {
    "ExecuteTime": {
     "end_time": "2020-09-24T04:02:54.357613Z",
     "start_time": "2020-09-24T04:02:54.346675Z"
    }
   },
   "outputs": [],
   "source": [
    "def CreateTree(dataSet,featDict,method='C4.5',parent_res=-1):\n",
    "    child={}\n",
    "# 数据集为空，等于上一步没有分\n",
    "    if dataSet.empty:\n",
    "        return decisionnode(result=parent_res,feature=None,child=None)\n",
    "    resList=dataSet.loc[:,'Label']\n",
    "    labelCnt=Counter(resList)\n",
    "    parent_res=max(labelCnt, key=labelCnt.get)\n",
    "# 只有一种结果，已完全分开\n",
    "    if len(labelCnt)==1:\n",
    "        return decisionnode(result=resList.values[0],feature=None,child=None)\n",
    "# 没有可以分的特征了\n",
    "    if dataSet.shape[1]==1:\n",
    "        return decisionnode(result=parent_res,feature=None,child=None)\n",
    "    bestVal=None\n",
    "    if method=='CART':\n",
    "        bestfeat,bestVal=getBestFeat_gini(dataSet)\n",
    "#         print(bestfeat,\",\",bestVal)\n",
    "        if(bestfeat==None):\n",
    "            return decisionnode(result=resList.values[0],feature=None,child=None)\n",
    "        else:\n",
    "#             print(\"left:\")\n",
    "            child[True]=CreateTree(dataSet[dataSet[bestfeat]==bestVal].drop(bestfeat,axis=1),featDict,method,parent_res)\n",
    "#             print(\"right:\")\n",
    "            child[False]=CreateTree(dataSet[dataSet[bestfeat]!=bestVal],featDict,method,parent_res)\n",
    "    else:\n",
    "        bestfeat=getBestFeature(dataSet,method)\n",
    "        for label in featDict[bestfeat]:\n",
    "            child[label]=CreateTree(dataSet[dataSet[bestfeat]==label].drop(bestfeat,axis=1),featDict,method,parent_res)\n",
    "    \n",
    "    return decisionnode(child=child,feature=bestfeat,result=parent_res,method=method,CART_val=bestVal)"
   ]
  },
  {
   "cell_type": "code",
   "execution_count": 36,
   "metadata": {
    "ExecuteTime": {
     "end_time": "2020-09-24T04:02:54.449774Z",
     "start_time": "2020-09-24T04:02:54.439801Z"
    }
   },
   "outputs": [
    {
     "ename": "NameError",
     "evalue": "name 'collect_feat' is not defined",
     "output_type": "error",
     "traceback": [
      "\u001b[1;31m---------------------------------------------------------------------------\u001b[0m",
      "\u001b[1;31mNameError\u001b[0m                                 Traceback (most recent call last)",
      "\u001b[1;32m<ipython-input-36-6f3dc289e623>\u001b[0m in \u001b[0;36m<module>\u001b[1;34m\u001b[0m\n\u001b[1;32m----> 1\u001b[1;33m \u001b[0mtree\u001b[0m\u001b[1;33m=\u001b[0m\u001b[0mCreateTree\u001b[0m\u001b[1;33m(\u001b[0m\u001b[0mds\u001b[0m\u001b[1;33m,\u001b[0m\u001b[0mcollect_feat\u001b[0m\u001b[1;33m(\u001b[0m\u001b[0mds\u001b[0m\u001b[1;33m)\u001b[0m\u001b[1;33m,\u001b[0m\u001b[1;34m'CART'\u001b[0m\u001b[1;33m)\u001b[0m\u001b[1;33m\u001b[0m\u001b[1;33m\u001b[0m\u001b[0m\n\u001b[0m",
      "\u001b[1;31mNameError\u001b[0m: name 'collect_feat' is not defined"
     ]
    }
   ],
   "source": [
    "tree=CreateTree(ds,collect_feat(ds),'CART')"
   ]
  },
  {
   "cell_type": "code",
   "execution_count": 37,
   "metadata": {
    "ExecuteTime": {
     "end_time": "2020-09-24T04:02:55.067791Z",
     "start_time": "2020-09-24T04:02:55.062792Z"
    }
   },
   "outputs": [],
   "source": [
    "def collect_feat(dataSet):\n",
    "    featDict={}\n",
    "    for feat in dataSet.columns[:-1]:\n",
    "        featDict[feat]=list(Counter(dataSet[feat]))\n",
    "    return featDict"
   ]
  },
  {
   "cell_type": "code",
   "execution_count": 38,
   "metadata": {
    "ExecuteTime": {
     "end_time": "2020-09-24T04:02:55.164210Z",
     "start_time": "2020-09-24T04:02:55.159196Z"
    }
   },
   "outputs": [],
   "source": [
    "def k_fold(dataSet,k,i):\n",
    "    avg_size=dataSet.shape[0]/k\n",
    "    begin=int(avg_size*(i))\n",
    "    end=int(avg_size*(i+1))\n",
    "    train_set=dataSet.drop(labels=range(begin,end),axis=0)\n",
    "    return train_set, dataSet.loc[begin:end-1]"
   ]
  },
  {
   "cell_type": "code",
   "execution_count": 39,
   "metadata": {
    "ExecuteTime": {
     "end_time": "2020-09-24T04:02:55.667773Z",
     "start_time": "2020-09-24T04:02:55.661816Z"
    }
   },
   "outputs": [],
   "source": [
    "def classify(tree,target,featIndex=None):\n",
    "    if type(target)==pd.core.series.Series:\n",
    "        if tree.child!=None:\n",
    "            return classify(tree.child[target[tree.feature]],target,featIndex)\n",
    "        else:\n",
    "            return tree.result\n",
    "    else:   \n",
    "        if tree.child!=None:\n",
    "            return classify(tree.child[target[featIndex[tree.feature]]],target,featIndex)\n",
    "        else:\n",
    "            return tree.result"
   ]
  },
  {
   "cell_type": "code",
   "execution_count": 40,
   "metadata": {
    "ExecuteTime": {
     "end_time": "2020-09-24T04:02:56.269730Z",
     "start_time": "2020-09-24T04:02:56.262722Z"
    }
   },
   "outputs": [],
   "source": [
    "def classify_CART(tree,target,featIndex):\n",
    "    if type(target)==pd.core.series.Series:\n",
    "        if tree.child!=None:\n",
    "            return classify_CART(tree.child[target[tree.feature]==tree.CART_val],target,featIndex)\n",
    "        else:\n",
    "            return tree.result\n",
    "    else:   \n",
    "        if tree.child!=None:\n",
    "            return classify_CART(tree.child[target[featIndex[tree.feature]]==tree.CART_val],target,featIndex)\n",
    "        else:\n",
    "            return tree.result"
   ]
  },
  {
   "cell_type": "code",
   "execution_count": 41,
   "metadata": {
    "ExecuteTime": {
     "end_time": "2020-09-24T04:02:56.727099Z",
     "start_time": "2020-09-24T04:02:56.721115Z"
    }
   },
   "outputs": [],
   "source": [
    "def validate(tree,v_set):\n",
    "    featIndex={}\n",
    "    i=0\n",
    "    for feat in v_set.columns:\n",
    "        featIndex[feat]=i\n",
    "        i+=1\n",
    "    corrCnt=0\n",
    "    if tree.method=='CART':\n",
    "        for row in v_set.iterrows():\n",
    "            if classify_CART(tree,list(row[1]),featIndex)==v_set['Label'][row[0]]:\n",
    "                corrCnt+=1\n",
    "    else:\n",
    "        for row in v_set.iterrows():\n",
    "            if classify(tree,list(row[1]),featIndex)==v_set['Label'][row[0]]:\n",
    "                corrCnt+=1\n",
    "    return corrCnt/v_set.shape[0]"
   ]
  },
  {
   "cell_type": "code",
   "execution_count": 42,
   "metadata": {
    "ExecuteTime": {
     "end_time": "2020-09-24T04:02:57.229512Z",
     "start_time": "2020-09-24T04:02:57.223527Z"
    }
   },
   "outputs": [],
   "source": [
    "def train(dataSet,k,method='C4.5'):\n",
    "    accuracy=0.0\n",
    "    for i in range(k):\n",
    "        s1,s2=k_fold(dataSet,k,i)\n",
    "        tree=CreateTree(s1,collect_feat(dataSet),method)\n",
    "        currAc=validate(tree,s2)\n",
    "        accuracy+=currAc\n",
    "        print(i,\" finished, accuracy:\",currAc)\n",
    "    return accuracy/k"
   ]
  },
  {
   "cell_type": "code",
   "execution_count": 43,
   "metadata": {
    "ExecuteTime": {
     "end_time": "2020-09-24T04:02:57.711844Z",
     "start_time": "2020-09-24T04:02:57.702842Z"
    }
   },
   "outputs": [],
   "source": [
    "ds=pd.read_csv('lab2_dataset/car_train.csv')"
   ]
  },
  {
   "cell_type": "code",
   "execution_count": 70,
   "metadata": {
    "ExecuteTime": {
     "end_time": "2020-09-24T04:15:27.270463Z",
     "start_time": "2020-09-24T04:15:22.804175Z"
    }
   },
   "outputs": [
    {
     "name": "stdout",
     "output_type": "stream",
     "text": [
      "safety , low\n",
      "safety , high\n",
      "lug_boot , small\n",
      "persons , 2\n",
      "persons , 4\n",
      "dorrs , 5more\n",
      "maint , vhigh\n",
      "buying , med\n",
      "maint , high\n",
      "buying , vhigh\n",
      "dorrs , 4\n",
      "maint , vhigh\n",
      "buying , med\n",
      "buying , low\n",
      "dorrs , 2\n",
      "maint , vhigh\n",
      "buying , high\n",
      "buying , vhigh\n",
      "maint , high\n",
      "buying , vhigh\n",
      "maint , vhigh\n",
      "buying , vhigh\n",
      "buying , high\n",
      "maint , high\n",
      "buying , vhigh\n",
      "dorrs , 2\n",
      "dorrs , 3\n",
      "maint , vhigh\n",
      "buying , med\n",
      "maint , high\n",
      "buying , vhigh\n",
      "dorrs , 4\n",
      "maint , vhigh\n",
      "buying , vhigh\n",
      "buying , high\n",
      "maint , high\n",
      "buying , vhigh\n",
      "maint , vhigh\n",
      "buying , vhigh\n",
      "buying , high\n",
      "maint , high\n",
      "buying , vhigh\n",
      "lug_boot , big\n",
      "persons , 2\n",
      "persons , 4\n",
      "dorrs , 4\n",
      "maint , vhigh\n",
      "buying , low\n",
      "dorrs , 3\n",
      "maint , vhigh\n",
      "buying , low\n",
      "buying , med\n",
      "maint , high\n",
      "buying , vhigh\n",
      "dorrs , 5more\n",
      "maint , vhigh\n",
      "buying , low\n",
      "buying , med\n",
      "maint , high\n",
      "buying , vhigh\n",
      "maint , vhigh\n",
      "buying , low\n",
      "buying , med\n",
      "maint , high\n",
      "buying , vhigh\n",
      "dorrs , 3\n",
      "maint , vhigh\n",
      "buying , high\n",
      "buying , vhigh\n",
      "maint , high\n",
      "buying , vhigh\n",
      "dorrs , 4\n",
      "maint , vhigh\n",
      "buying , low\n",
      "buying , med\n",
      "dorrs , 2\n",
      "maint , vhigh\n",
      "buying , med\n",
      "maint , high\n",
      "buying , vhigh\n",
      "maint , med\n",
      "maint , low\n",
      "maint , high\n",
      "buying , vhigh\n",
      "buying , high\n",
      "persons , 2\n",
      "persons , 4\n",
      "dorrs , 4\n",
      "maint , vhigh\n",
      "buying , vhigh\n",
      "buying , high\n",
      "maint , high\n",
      "buying , med\n",
      "dorrs , 5more\n",
      "maint , vhigh\n",
      "buying , vhigh\n",
      "buying , high\n",
      "maint , high\n",
      "buying , vhigh\n",
      "dorrs , 2\n",
      "maint , vhigh\n",
      "buying , low\n",
      "buying , med\n",
      "maint , high\n",
      "buying , vhigh\n",
      "maint , vhigh\n",
      "buying , vhigh\n",
      "buying , high\n",
      "maint , high\n",
      "buying , vhigh\n",
      "dorrs , 3\n",
      "maint , vhigh\n",
      "buying , vhigh\n",
      "maint , high\n",
      "buying , vhigh\n",
      "dorrs , 2\n",
      "maint , vhigh\n",
      "buying , med\n",
      "maint , high\n",
      "buying , vhigh\n",
      "dorrs , 5more\n",
      "maint , vhigh\n",
      "buying , high\n",
      "buying , vhigh\n",
      "maint , high\n",
      "buying , vhigh\n",
      "maint , vhigh\n",
      "buying , high\n",
      "buying , vhigh\n",
      "maint , high\n",
      "buying , vhigh\n",
      "lug_boot , small\n",
      "persons , 2\n",
      "persons , 4\n",
      "dorrs , 3\n",
      "maint , med\n",
      "buying , low\n",
      "buying , med\n",
      "maint , low\n",
      "buying , low\n",
      "dorrs , 2\n",
      "maint , vhigh\n",
      "maint , high\n",
      "buying , low\n",
      "maint , med\n",
      "buying , high\n",
      "buying , high\n",
      "dorrs , 5more\n",
      "maint , vhigh\n",
      "maint , high\n",
      "buying , low\n",
      "maint , med\n",
      "buying , high\n",
      "buying , vhigh\n",
      "buying , high\n",
      "buying , vhigh\n",
      "maint , vhigh\n",
      "maint , high\n",
      "buying , low\n",
      "maint , low\n",
      "buying , med\n",
      "buying , low\n",
      "buying , high\n",
      "dorrs , 2\n",
      "dorrs , 3\n",
      "maint , low\n",
      "buying , vhigh\n",
      "maint , vhigh\n",
      "maint , high\n",
      "buying , low\n",
      "buying , med\n",
      "dorrs , 4\n",
      "maint , vhigh\n",
      "maint , high\n",
      "buying , low\n",
      "maint , low\n",
      "buying , high\n",
      "buying , vhigh\n",
      "buying , high\n",
      "buying , vhigh\n",
      "maint , vhigh\n",
      "maint , high\n",
      "buying , low\n",
      "maint , low\n",
      "buying , high\n",
      "buying , vhigh\n",
      "buying , vhigh\n",
      "buying , high\n",
      "lug_boot , big\n",
      "persons , 2\n",
      "persons , 4\n",
      "dorrs , 5more\n",
      "maint , high\n",
      "buying , vhigh\n",
      "dorrs , 2\n",
      "maint , vhigh\n",
      "buying , med\n",
      "maint , high\n",
      "buying , vhigh\n",
      "dorrs , 3\n",
      "maint , vhigh\n",
      "buying , low\n",
      "buying , med\n",
      "maint , high\n",
      "buying , med\n",
      "maint , vhigh\n",
      "buying , low\n",
      "maint , high\n",
      "buying , vhigh\n",
      "dorrs , 3\n",
      "maint , high\n",
      "buying , vhigh\n",
      "dorrs , 4\n",
      "maint , vhigh\n",
      "buying , med\n",
      "buying , low\n",
      "maint , high\n",
      "buying , vhigh\n",
      "dorrs , 2\n",
      "maint , vhigh\n",
      "buying , med\n",
      "buying , low\n",
      "maint , high\n",
      "buying , vhigh\n",
      "maint , vhigh\n",
      "buying , high\n",
      "buying , vhigh\n",
      "maint , high\n",
      "buying , vhigh\n",
      "persons , 2\n",
      "persons , more\n",
      "dorrs , 2\n",
      "maint , vhigh\n",
      "maint , high\n",
      "buying , low\n",
      "maint , med\n",
      "buying , high\n",
      "buying , vhigh\n",
      "buying , vhigh\n",
      "dorrs , 3\n",
      "maint , vhigh\n",
      "buying , vhigh\n",
      "buying , high\n",
      "maint , high\n",
      "buying , vhigh\n",
      "dorrs , 4\n",
      "maint , vhigh\n",
      "buying , high\n",
      "buying , vhigh\n",
      "maint , high\n",
      "buying , vhigh\n",
      "maint , vhigh\n",
      "buying , vhigh\n",
      "buying , high\n",
      "maint , high\n",
      "buying , vhigh\n",
      "dorrs , 4\n",
      "maint , vhigh\n",
      "buying , high\n",
      "buying , vhigh\n",
      "dorrs , 5more\n",
      "maint , vhigh\n",
      "buying , med\n",
      "maint , high\n",
      "buying , vhigh\n",
      "dorrs , 2\n",
      "maint , vhigh\n",
      "maint , high\n",
      "buying , low\n",
      "maint , low\n",
      "buying , vhigh\n",
      "buying , high\n",
      "buying , med\n",
      "buying , low\n",
      "maint , vhigh\n",
      "maint , high\n",
      "buying , low\n",
      "maint , low\n",
      "buying , low\n",
      "buying , med\n",
      "buying , med\n",
      "buying , low\n",
      "0  finished, accuracy: 0.8255813953488372\n",
      "safety , low\n",
      "safety , high\n"
     ]
    },
    {
     "ename": "KeyboardInterrupt",
     "evalue": "",
     "output_type": "error",
     "traceback": [
      "\u001b[1;31m---------------------------------------------------------------------------\u001b[0m",
      "\u001b[1;31mKeyboardInterrupt\u001b[0m                         Traceback (most recent call last)",
      "\u001b[1;32m<ipython-input-70-b7b7813e48eb>\u001b[0m in \u001b[0;36m<module>\u001b[1;34m\u001b[0m\n\u001b[1;32m----> 1\u001b[1;33m \u001b[0mtrain\u001b[0m\u001b[1;33m(\u001b[0m\u001b[0mds\u001b[0m\u001b[1;33m,\u001b[0m\u001b[1;36m10\u001b[0m\u001b[1;33m,\u001b[0m\u001b[1;34m'CART'\u001b[0m\u001b[1;33m)\u001b[0m\u001b[1;33m\u001b[0m\u001b[1;33m\u001b[0m\u001b[0m\n\u001b[0m",
      "\u001b[1;32m<ipython-input-42-8bc0472d68d2>\u001b[0m in \u001b[0;36mtrain\u001b[1;34m(dataSet, k, method)\u001b[0m\n\u001b[0;32m      3\u001b[0m     \u001b[1;32mfor\u001b[0m \u001b[0mi\u001b[0m \u001b[1;32min\u001b[0m \u001b[0mrange\u001b[0m\u001b[1;33m(\u001b[0m\u001b[0mk\u001b[0m\u001b[1;33m)\u001b[0m\u001b[1;33m:\u001b[0m\u001b[1;33m\u001b[0m\u001b[1;33m\u001b[0m\u001b[0m\n\u001b[0;32m      4\u001b[0m         \u001b[0ms1\u001b[0m\u001b[1;33m,\u001b[0m\u001b[0ms2\u001b[0m\u001b[1;33m=\u001b[0m\u001b[0mk_fold\u001b[0m\u001b[1;33m(\u001b[0m\u001b[0mdataSet\u001b[0m\u001b[1;33m,\u001b[0m\u001b[0mk\u001b[0m\u001b[1;33m,\u001b[0m\u001b[0mi\u001b[0m\u001b[1;33m)\u001b[0m\u001b[1;33m\u001b[0m\u001b[1;33m\u001b[0m\u001b[0m\n\u001b[1;32m----> 5\u001b[1;33m         \u001b[0mtree\u001b[0m\u001b[1;33m=\u001b[0m\u001b[0mCreateTree\u001b[0m\u001b[1;33m(\u001b[0m\u001b[0ms1\u001b[0m\u001b[1;33m,\u001b[0m\u001b[0mcollect_feat\u001b[0m\u001b[1;33m(\u001b[0m\u001b[0mdataSet\u001b[0m\u001b[1;33m)\u001b[0m\u001b[1;33m,\u001b[0m\u001b[0mmethod\u001b[0m\u001b[1;33m)\u001b[0m\u001b[1;33m\u001b[0m\u001b[1;33m\u001b[0m\u001b[0m\n\u001b[0m\u001b[0;32m      6\u001b[0m         \u001b[0mcurrAc\u001b[0m\u001b[1;33m=\u001b[0m\u001b[0mvalidate\u001b[0m\u001b[1;33m(\u001b[0m\u001b[0mtree\u001b[0m\u001b[1;33m,\u001b[0m\u001b[0ms2\u001b[0m\u001b[1;33m)\u001b[0m\u001b[1;33m\u001b[0m\u001b[1;33m\u001b[0m\u001b[0m\n\u001b[0;32m      7\u001b[0m         \u001b[0maccuracy\u001b[0m\u001b[1;33m+=\u001b[0m\u001b[0mcurrAc\u001b[0m\u001b[1;33m\u001b[0m\u001b[1;33m\u001b[0m\u001b[0m\n",
      "\u001b[1;32m<ipython-input-35-c0e3f7bfc697>\u001b[0m in \u001b[0;36mCreateTree\u001b[1;34m(dataSet, featDict, method, parent_res)\u001b[0m\n\u001b[0;32m     23\u001b[0m             \u001b[0mchild\u001b[0m\u001b[1;33m[\u001b[0m\u001b[1;32mTrue\u001b[0m\u001b[1;33m]\u001b[0m\u001b[1;33m=\u001b[0m\u001b[0mCreateTree\u001b[0m\u001b[1;33m(\u001b[0m\u001b[0mdataSet\u001b[0m\u001b[1;33m[\u001b[0m\u001b[0mdataSet\u001b[0m\u001b[1;33m[\u001b[0m\u001b[0mbestfeat\u001b[0m\u001b[1;33m]\u001b[0m\u001b[1;33m==\u001b[0m\u001b[0mbestVal\u001b[0m\u001b[1;33m]\u001b[0m\u001b[1;33m.\u001b[0m\u001b[0mdrop\u001b[0m\u001b[1;33m(\u001b[0m\u001b[0mbestfeat\u001b[0m\u001b[1;33m,\u001b[0m\u001b[0maxis\u001b[0m\u001b[1;33m=\u001b[0m\u001b[1;36m1\u001b[0m\u001b[1;33m)\u001b[0m\u001b[1;33m,\u001b[0m\u001b[0mfeatDict\u001b[0m\u001b[1;33m,\u001b[0m\u001b[0mmethod\u001b[0m\u001b[1;33m,\u001b[0m\u001b[0mparent_res\u001b[0m\u001b[1;33m)\u001b[0m\u001b[1;33m\u001b[0m\u001b[1;33m\u001b[0m\u001b[0m\n\u001b[0;32m     24\u001b[0m \u001b[1;31m#             print(\"right:\")\u001b[0m\u001b[1;33m\u001b[0m\u001b[1;33m\u001b[0m\u001b[1;33m\u001b[0m\u001b[0m\n\u001b[1;32m---> 25\u001b[1;33m             \u001b[0mchild\u001b[0m\u001b[1;33m[\u001b[0m\u001b[1;32mFalse\u001b[0m\u001b[1;33m]\u001b[0m\u001b[1;33m=\u001b[0m\u001b[0mCreateTree\u001b[0m\u001b[1;33m(\u001b[0m\u001b[0mdataSet\u001b[0m\u001b[1;33m[\u001b[0m\u001b[0mdataSet\u001b[0m\u001b[1;33m[\u001b[0m\u001b[0mbestfeat\u001b[0m\u001b[1;33m]\u001b[0m\u001b[1;33m!=\u001b[0m\u001b[0mbestVal\u001b[0m\u001b[1;33m]\u001b[0m\u001b[1;33m,\u001b[0m\u001b[0mfeatDict\u001b[0m\u001b[1;33m,\u001b[0m\u001b[0mmethod\u001b[0m\u001b[1;33m,\u001b[0m\u001b[0mparent_res\u001b[0m\u001b[1;33m)\u001b[0m\u001b[1;33m\u001b[0m\u001b[1;33m\u001b[0m\u001b[0m\n\u001b[0m\u001b[0;32m     26\u001b[0m     \u001b[1;32melse\u001b[0m\u001b[1;33m:\u001b[0m\u001b[1;33m\u001b[0m\u001b[1;33m\u001b[0m\u001b[0m\n\u001b[0;32m     27\u001b[0m         \u001b[0mbestfeat\u001b[0m\u001b[1;33m=\u001b[0m\u001b[0mgetBestFeature\u001b[0m\u001b[1;33m(\u001b[0m\u001b[0mdataSet\u001b[0m\u001b[1;33m,\u001b[0m\u001b[0mmethod\u001b[0m\u001b[1;33m)\u001b[0m\u001b[1;33m\u001b[0m\u001b[1;33m\u001b[0m\u001b[0m\n",
      "\u001b[1;32m<ipython-input-35-c0e3f7bfc697>\u001b[0m in \u001b[0;36mCreateTree\u001b[1;34m(dataSet, featDict, method, parent_res)\u001b[0m\n\u001b[0;32m     21\u001b[0m         \u001b[1;32melse\u001b[0m\u001b[1;33m:\u001b[0m\u001b[1;33m\u001b[0m\u001b[1;33m\u001b[0m\u001b[0m\n\u001b[0;32m     22\u001b[0m \u001b[1;31m#             print(\"left:\")\u001b[0m\u001b[1;33m\u001b[0m\u001b[1;33m\u001b[0m\u001b[1;33m\u001b[0m\u001b[0m\n\u001b[1;32m---> 23\u001b[1;33m             \u001b[0mchild\u001b[0m\u001b[1;33m[\u001b[0m\u001b[1;32mTrue\u001b[0m\u001b[1;33m]\u001b[0m\u001b[1;33m=\u001b[0m\u001b[0mCreateTree\u001b[0m\u001b[1;33m(\u001b[0m\u001b[0mdataSet\u001b[0m\u001b[1;33m[\u001b[0m\u001b[0mdataSet\u001b[0m\u001b[1;33m[\u001b[0m\u001b[0mbestfeat\u001b[0m\u001b[1;33m]\u001b[0m\u001b[1;33m==\u001b[0m\u001b[0mbestVal\u001b[0m\u001b[1;33m]\u001b[0m\u001b[1;33m.\u001b[0m\u001b[0mdrop\u001b[0m\u001b[1;33m(\u001b[0m\u001b[0mbestfeat\u001b[0m\u001b[1;33m,\u001b[0m\u001b[0maxis\u001b[0m\u001b[1;33m=\u001b[0m\u001b[1;36m1\u001b[0m\u001b[1;33m)\u001b[0m\u001b[1;33m,\u001b[0m\u001b[0mfeatDict\u001b[0m\u001b[1;33m,\u001b[0m\u001b[0mmethod\u001b[0m\u001b[1;33m,\u001b[0m\u001b[0mparent_res\u001b[0m\u001b[1;33m)\u001b[0m\u001b[1;33m\u001b[0m\u001b[1;33m\u001b[0m\u001b[0m\n\u001b[0m\u001b[0;32m     24\u001b[0m \u001b[1;31m#             print(\"right:\")\u001b[0m\u001b[1;33m\u001b[0m\u001b[1;33m\u001b[0m\u001b[1;33m\u001b[0m\u001b[0m\n\u001b[0;32m     25\u001b[0m             \u001b[0mchild\u001b[0m\u001b[1;33m[\u001b[0m\u001b[1;32mFalse\u001b[0m\u001b[1;33m]\u001b[0m\u001b[1;33m=\u001b[0m\u001b[0mCreateTree\u001b[0m\u001b[1;33m(\u001b[0m\u001b[0mdataSet\u001b[0m\u001b[1;33m[\u001b[0m\u001b[0mdataSet\u001b[0m\u001b[1;33m[\u001b[0m\u001b[0mbestfeat\u001b[0m\u001b[1;33m]\u001b[0m\u001b[1;33m!=\u001b[0m\u001b[0mbestVal\u001b[0m\u001b[1;33m]\u001b[0m\u001b[1;33m,\u001b[0m\u001b[0mfeatDict\u001b[0m\u001b[1;33m,\u001b[0m\u001b[0mmethod\u001b[0m\u001b[1;33m,\u001b[0m\u001b[0mparent_res\u001b[0m\u001b[1;33m)\u001b[0m\u001b[1;33m\u001b[0m\u001b[1;33m\u001b[0m\u001b[0m\n",
      "\u001b[1;32m<ipython-input-35-c0e3f7bfc697>\u001b[0m in \u001b[0;36mCreateTree\u001b[1;34m(dataSet, featDict, method, parent_res)\u001b[0m\n\u001b[0;32m     15\u001b[0m     \u001b[0mbestVal\u001b[0m\u001b[1;33m=\u001b[0m\u001b[1;32mNone\u001b[0m\u001b[1;33m\u001b[0m\u001b[1;33m\u001b[0m\u001b[0m\n\u001b[0;32m     16\u001b[0m     \u001b[1;32mif\u001b[0m \u001b[0mmethod\u001b[0m\u001b[1;33m==\u001b[0m\u001b[1;34m'CART'\u001b[0m\u001b[1;33m:\u001b[0m\u001b[1;33m\u001b[0m\u001b[1;33m\u001b[0m\u001b[0m\n\u001b[1;32m---> 17\u001b[1;33m         \u001b[0mbestfeat\u001b[0m\u001b[1;33m,\u001b[0m\u001b[0mbestVal\u001b[0m\u001b[1;33m=\u001b[0m\u001b[0mgetBestFeat_gini\u001b[0m\u001b[1;33m(\u001b[0m\u001b[0mdataSet\u001b[0m\u001b[1;33m)\u001b[0m\u001b[1;33m\u001b[0m\u001b[1;33m\u001b[0m\u001b[0m\n\u001b[0m\u001b[0;32m     18\u001b[0m         \u001b[0mprint\u001b[0m\u001b[1;33m(\u001b[0m\u001b[0mbestfeat\u001b[0m\u001b[1;33m,\u001b[0m\u001b[1;34m\",\"\u001b[0m\u001b[1;33m,\u001b[0m\u001b[0mbestVal\u001b[0m\u001b[1;33m)\u001b[0m\u001b[1;33m\u001b[0m\u001b[1;33m\u001b[0m\u001b[0m\n\u001b[0;32m     19\u001b[0m         \u001b[1;32mif\u001b[0m\u001b[1;33m(\u001b[0m\u001b[0mbestfeat\u001b[0m\u001b[1;33m==\u001b[0m\u001b[1;32mNone\u001b[0m\u001b[1;33m)\u001b[0m\u001b[1;33m:\u001b[0m\u001b[1;33m\u001b[0m\u001b[1;33m\u001b[0m\u001b[0m\n",
      "\u001b[1;32m<ipython-input-69-9dc4381ea8ad>\u001b[0m in \u001b[0;36mgetBestFeat_gini\u001b[1;34m(dataSet)\u001b[0m\n\u001b[0;32m     12\u001b[0m             \u001b[1;32mpass\u001b[0m\u001b[1;33m\u001b[0m\u001b[1;33m\u001b[0m\u001b[0m\n\u001b[0;32m     13\u001b[0m         \u001b[1;32melse\u001b[0m\u001b[1;33m:\u001b[0m\u001b[1;33m\u001b[0m\u001b[1;33m\u001b[0m\u001b[0m\n\u001b[1;32m---> 14\u001b[1;33m             \u001b[0mcurrfeatVal\u001b[0m\u001b[1;33m,\u001b[0m\u001b[0mginiIndex\u001b[0m\u001b[1;33m=\u001b[0m\u001b[0mgetBestSplit\u001b[0m\u001b[1;33m(\u001b[0m\u001b[0mdataSet\u001b[0m\u001b[1;33m,\u001b[0m\u001b[0mfeat\u001b[0m\u001b[1;33m)\u001b[0m\u001b[1;33m\u001b[0m\u001b[1;33m\u001b[0m\u001b[0m\n\u001b[0m\u001b[0;32m     15\u001b[0m             \u001b[1;32mif\u001b[0m \u001b[0mginiIndex\u001b[0m\u001b[1;33m<\u001b[0m\u001b[0mminGiniIndex\u001b[0m\u001b[1;33m:\u001b[0m\u001b[1;33m\u001b[0m\u001b[1;33m\u001b[0m\u001b[0m\n\u001b[0;32m     16\u001b[0m                 \u001b[0mBestFeat\u001b[0m\u001b[1;33m=\u001b[0m\u001b[0mfeat\u001b[0m\u001b[1;33m\u001b[0m\u001b[1;33m\u001b[0m\u001b[0m\n",
      "\u001b[1;32m<ipython-input-68-fbadc125817c>\u001b[0m in \u001b[0;36mgetBestSplit\u001b[1;34m(dataSet, feat)\u001b[0m\n\u001b[0;32m      8\u001b[0m         \u001b[0moneSubtractGini\u001b[0m\u001b[1;33m=\u001b[0m\u001b[1;36m0.0\u001b[0m\u001b[1;33m\u001b[0m\u001b[1;33m\u001b[0m\u001b[0m\n\u001b[0;32m      9\u001b[0m         \u001b[0mginiIndex\u001b[0m\u001b[1;33m=\u001b[0m\u001b[1;36m0.0\u001b[0m\u001b[1;33m\u001b[0m\u001b[1;33m\u001b[0m\u001b[0m\n\u001b[1;32m---> 10\u001b[1;33m         \u001b[0mtarget_group\u001b[0m\u001b[1;33m=\u001b[0m\u001b[0mcurrfeat\u001b[0m\u001b[1;33m.\u001b[0m\u001b[0mloc\u001b[0m\u001b[1;33m[\u001b[0m\u001b[0mcurrfeat\u001b[0m\u001b[1;33m[\u001b[0m\u001b[0mfeat\u001b[0m\u001b[1;33m]\u001b[0m\u001b[1;33m==\u001b[0m\u001b[0mfeatVal\u001b[0m\u001b[1;33m]\u001b[0m\u001b[1;33m[\u001b[0m\u001b[1;34m'Label'\u001b[0m\u001b[1;33m]\u001b[0m\u001b[1;33m\u001b[0m\u001b[1;33m\u001b[0m\u001b[0m\n\u001b[0m\u001b[0;32m     11\u001b[0m         \u001b[0manother_group\u001b[0m\u001b[1;33m=\u001b[0m\u001b[0mcurrfeat\u001b[0m\u001b[1;33m.\u001b[0m\u001b[0mloc\u001b[0m\u001b[1;33m[\u001b[0m\u001b[0mcurrfeat\u001b[0m\u001b[1;33m[\u001b[0m\u001b[0mfeat\u001b[0m\u001b[1;33m]\u001b[0m\u001b[1;33m!=\u001b[0m\u001b[0mfeatVal\u001b[0m\u001b[1;33m]\u001b[0m\u001b[1;33m[\u001b[0m\u001b[1;34m'Label'\u001b[0m\u001b[1;33m]\u001b[0m\u001b[1;33m\u001b[0m\u001b[1;33m\u001b[0m\u001b[0m\n\u001b[0;32m     12\u001b[0m         \u001b[0mportion\u001b[0m\u001b[1;33m=\u001b[0m\u001b[0mtarget_group\u001b[0m\u001b[1;33m.\u001b[0m\u001b[0msize\u001b[0m\u001b[1;33m/\u001b[0m\u001b[0mcurrfeat\u001b[0m\u001b[1;33m.\u001b[0m\u001b[0mshape\u001b[0m\u001b[1;33m[\u001b[0m\u001b[1;36m0\u001b[0m\u001b[1;33m]\u001b[0m\u001b[1;33m\u001b[0m\u001b[1;33m\u001b[0m\u001b[0m\n",
      "\u001b[1;32m~\\anaconda3\\lib\\site-packages\\pandas\\core\\indexing.py\u001b[0m in \u001b[0;36m__getitem__\u001b[1;34m(self, key)\u001b[0m\n\u001b[0;32m   1765\u001b[0m \u001b[1;33m\u001b[0m\u001b[0m\n\u001b[0;32m   1766\u001b[0m             \u001b[0mmaybe_callable\u001b[0m \u001b[1;33m=\u001b[0m \u001b[0mcom\u001b[0m\u001b[1;33m.\u001b[0m\u001b[0mapply_if_callable\u001b[0m\u001b[1;33m(\u001b[0m\u001b[0mkey\u001b[0m\u001b[1;33m,\u001b[0m \u001b[0mself\u001b[0m\u001b[1;33m.\u001b[0m\u001b[0mobj\u001b[0m\u001b[1;33m)\u001b[0m\u001b[1;33m\u001b[0m\u001b[1;33m\u001b[0m\u001b[0m\n\u001b[1;32m-> 1767\u001b[1;33m             \u001b[1;32mreturn\u001b[0m \u001b[0mself\u001b[0m\u001b[1;33m.\u001b[0m\u001b[0m_getitem_axis\u001b[0m\u001b[1;33m(\u001b[0m\u001b[0mmaybe_callable\u001b[0m\u001b[1;33m,\u001b[0m \u001b[0maxis\u001b[0m\u001b[1;33m=\u001b[0m\u001b[0maxis\u001b[0m\u001b[1;33m)\u001b[0m\u001b[1;33m\u001b[0m\u001b[1;33m\u001b[0m\u001b[0m\n\u001b[0m\u001b[0;32m   1768\u001b[0m \u001b[1;33m\u001b[0m\u001b[0m\n\u001b[0;32m   1769\u001b[0m     \u001b[1;32mdef\u001b[0m \u001b[0m_is_scalar_access\u001b[0m\u001b[1;33m(\u001b[0m\u001b[0mself\u001b[0m\u001b[1;33m,\u001b[0m \u001b[0mkey\u001b[0m\u001b[1;33m:\u001b[0m \u001b[0mTuple\u001b[0m\u001b[1;33m)\u001b[0m\u001b[1;33m:\u001b[0m\u001b[1;33m\u001b[0m\u001b[1;33m\u001b[0m\u001b[0m\n",
      "\u001b[1;32m~\\anaconda3\\lib\\site-packages\\pandas\\core\\indexing.py\u001b[0m in \u001b[0;36m_getitem_axis\u001b[1;34m(self, key, axis)\u001b[0m\n\u001b[0;32m   1911\u001b[0m             \u001b[1;32mreturn\u001b[0m \u001b[0mself\u001b[0m\u001b[1;33m.\u001b[0m\u001b[0m_get_slice_axis\u001b[0m\u001b[1;33m(\u001b[0m\u001b[0mkey\u001b[0m\u001b[1;33m,\u001b[0m \u001b[0maxis\u001b[0m\u001b[1;33m=\u001b[0m\u001b[0maxis\u001b[0m\u001b[1;33m)\u001b[0m\u001b[1;33m\u001b[0m\u001b[1;33m\u001b[0m\u001b[0m\n\u001b[0;32m   1912\u001b[0m         \u001b[1;32melif\u001b[0m \u001b[0mcom\u001b[0m\u001b[1;33m.\u001b[0m\u001b[0mis_bool_indexer\u001b[0m\u001b[1;33m(\u001b[0m\u001b[0mkey\u001b[0m\u001b[1;33m)\u001b[0m\u001b[1;33m:\u001b[0m\u001b[1;33m\u001b[0m\u001b[1;33m\u001b[0m\u001b[0m\n\u001b[1;32m-> 1913\u001b[1;33m             \u001b[1;32mreturn\u001b[0m \u001b[0mself\u001b[0m\u001b[1;33m.\u001b[0m\u001b[0m_getbool_axis\u001b[0m\u001b[1;33m(\u001b[0m\u001b[0mkey\u001b[0m\u001b[1;33m,\u001b[0m \u001b[0maxis\u001b[0m\u001b[1;33m=\u001b[0m\u001b[0maxis\u001b[0m\u001b[1;33m)\u001b[0m\u001b[1;33m\u001b[0m\u001b[1;33m\u001b[0m\u001b[0m\n\u001b[0m\u001b[0;32m   1914\u001b[0m         \u001b[1;32melif\u001b[0m \u001b[0mis_list_like_indexer\u001b[0m\u001b[1;33m(\u001b[0m\u001b[0mkey\u001b[0m\u001b[1;33m)\u001b[0m\u001b[1;33m:\u001b[0m\u001b[1;33m\u001b[0m\u001b[1;33m\u001b[0m\u001b[0m\n\u001b[0;32m   1915\u001b[0m \u001b[1;33m\u001b[0m\u001b[0m\n",
      "\u001b[1;32m~\\anaconda3\\lib\\site-packages\\pandas\\core\\indexing.py\u001b[0m in \u001b[0;36m_getbool_axis\u001b[1;34m(self, key, axis)\u001b[0m\n\u001b[0;32m   1780\u001b[0m         \u001b[0mlabels\u001b[0m \u001b[1;33m=\u001b[0m \u001b[0mself\u001b[0m\u001b[1;33m.\u001b[0m\u001b[0mobj\u001b[0m\u001b[1;33m.\u001b[0m\u001b[0m_get_axis\u001b[0m\u001b[1;33m(\u001b[0m\u001b[0maxis\u001b[0m\u001b[1;33m)\u001b[0m\u001b[1;33m\u001b[0m\u001b[1;33m\u001b[0m\u001b[0m\n\u001b[0;32m   1781\u001b[0m         \u001b[0mkey\u001b[0m \u001b[1;33m=\u001b[0m \u001b[0mcheck_bool_indexer\u001b[0m\u001b[1;33m(\u001b[0m\u001b[0mlabels\u001b[0m\u001b[1;33m,\u001b[0m \u001b[0mkey\u001b[0m\u001b[1;33m)\u001b[0m\u001b[1;33m\u001b[0m\u001b[1;33m\u001b[0m\u001b[0m\n\u001b[1;32m-> 1782\u001b[1;33m         \u001b[0minds\u001b[0m \u001b[1;33m=\u001b[0m \u001b[0mkey\u001b[0m\u001b[1;33m.\u001b[0m\u001b[0mnonzero\u001b[0m\u001b[1;33m(\u001b[0m\u001b[1;33m)\u001b[0m\u001b[1;33m[\u001b[0m\u001b[1;36m0\u001b[0m\u001b[1;33m]\u001b[0m\u001b[1;33m\u001b[0m\u001b[1;33m\u001b[0m\u001b[0m\n\u001b[0m\u001b[0;32m   1783\u001b[0m         \u001b[1;32mreturn\u001b[0m \u001b[0mself\u001b[0m\u001b[1;33m.\u001b[0m\u001b[0mobj\u001b[0m\u001b[1;33m.\u001b[0m\u001b[0m_take_with_is_copy\u001b[0m\u001b[1;33m(\u001b[0m\u001b[0minds\u001b[0m\u001b[1;33m,\u001b[0m \u001b[0maxis\u001b[0m\u001b[1;33m=\u001b[0m\u001b[0maxis\u001b[0m\u001b[1;33m)\u001b[0m\u001b[1;33m\u001b[0m\u001b[1;33m\u001b[0m\u001b[0m\n\u001b[0;32m   1784\u001b[0m \u001b[1;33m\u001b[0m\u001b[0m\n",
      "\u001b[1;31mKeyboardInterrupt\u001b[0m: "
     ]
    }
   ],
   "source": [
    "train(ds,10,'CART')"
   ]
  }
 ],
 "metadata": {
  "kernelspec": {
   "display_name": "Python 3.7.6 64-bit ('base': conda)",
   "language": "python",
   "name": "python37664bitbaseconda4695e5f7bc8c4dc3ac8217854788797a"
  },
  "language_info": {
   "codemirror_mode": {
    "name": "ipython",
    "version": 3
   },
   "file_extension": ".py",
   "mimetype": "text/x-python",
   "name": "python",
   "nbconvert_exporter": "python",
   "pygments_lexer": "ipython3",
   "version": "3.7.6"
  },
  "varInspector": {
   "cols": {
    "lenName": 16,
    "lenType": 16,
    "lenVar": 40
   },
   "kernels_config": {
    "python": {
     "delete_cmd_postfix": "",
     "delete_cmd_prefix": "del ",
     "library": "var_list.py",
     "varRefreshCmd": "print(var_dic_list())"
    },
    "r": {
     "delete_cmd_postfix": ") ",
     "delete_cmd_prefix": "rm(",
     "library": "var_list.r",
     "varRefreshCmd": "cat(var_dic_list()) "
    }
   },
   "position": {
    "height": "725px",
    "left": "1421px",
    "right": "20px",
    "top": "120px",
    "width": "319px"
   },
   "types_to_exclude": [
    "module",
    "function",
    "builtin_function_or_method",
    "instance",
    "_Feature"
   ],
   "window_display": false
  }
 },
 "nbformat": 4,
 "nbformat_minor": 4
}
