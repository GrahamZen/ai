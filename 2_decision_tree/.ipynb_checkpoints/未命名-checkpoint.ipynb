{
 "cells": [
  {
   "cell_type": "code",
   "execution_count": 4,
   "metadata": {
    "ExecuteTime": {
     "end_time": "2020-09-21T00:50:51.890278Z",
     "start_time": "2020-09-21T00:50:51.129303Z"
    },
    "scrolled": true
   },
   "outputs": [
    {
     "data": {
      "text/html": [
       "<div>\n",
       "<style scoped>\n",
       "    .dataframe tbody tr th:only-of-type {\n",
       "        vertical-align: middle;\n",
       "    }\n",
       "\n",
       "    .dataframe tbody tr th {\n",
       "        vertical-align: top;\n",
       "    }\n",
       "\n",
       "    .dataframe thead th {\n",
       "        text-align: right;\n",
       "    }\n",
       "</style>\n",
       "<table border=\"1\" class=\"dataframe\">\n",
       "  <thead>\n",
       "    <tr style=\"text-align: right;\">\n",
       "      <th></th>\n",
       "      <th>buying</th>\n",
       "      <th>maint</th>\n",
       "      <th>dorrs</th>\n",
       "      <th>persons</th>\n",
       "      <th>lug_boot</th>\n",
       "      <th>safety</th>\n",
       "      <th>Label</th>\n",
       "    </tr>\n",
       "  </thead>\n",
       "  <tbody>\n",
       "    <tr>\n",
       "      <th>0</th>\n",
       "      <td>high</td>\n",
       "      <td>vhigh</td>\n",
       "      <td>3</td>\n",
       "      <td>2</td>\n",
       "      <td>small</td>\n",
       "      <td>high</td>\n",
       "      <td>0</td>\n",
       "    </tr>\n",
       "    <tr>\n",
       "      <th>1</th>\n",
       "      <td>high</td>\n",
       "      <td>med</td>\n",
       "      <td>3</td>\n",
       "      <td>2</td>\n",
       "      <td>small</td>\n",
       "      <td>low</td>\n",
       "      <td>0</td>\n",
       "    </tr>\n",
       "    <tr>\n",
       "      <th>2</th>\n",
       "      <td>vhigh</td>\n",
       "      <td>low</td>\n",
       "      <td>2</td>\n",
       "      <td>4</td>\n",
       "      <td>big</td>\n",
       "      <td>low</td>\n",
       "      <td>0</td>\n",
       "    </tr>\n",
       "    <tr>\n",
       "      <th>3</th>\n",
       "      <td>med</td>\n",
       "      <td>high</td>\n",
       "      <td>4</td>\n",
       "      <td>2</td>\n",
       "      <td>big</td>\n",
       "      <td>med</td>\n",
       "      <td>0</td>\n",
       "    </tr>\n",
       "    <tr>\n",
       "      <th>4</th>\n",
       "      <td>vhigh</td>\n",
       "      <td>med</td>\n",
       "      <td>4</td>\n",
       "      <td>4</td>\n",
       "      <td>med</td>\n",
       "      <td>high</td>\n",
       "      <td>1</td>\n",
       "    </tr>\n",
       "    <tr>\n",
       "      <th>...</th>\n",
       "      <td>...</td>\n",
       "      <td>...</td>\n",
       "      <td>...</td>\n",
       "      <td>...</td>\n",
       "      <td>...</td>\n",
       "      <td>...</td>\n",
       "      <td>...</td>\n",
       "    </tr>\n",
       "    <tr>\n",
       "      <th>1723</th>\n",
       "      <td>high</td>\n",
       "      <td>med</td>\n",
       "      <td>2</td>\n",
       "      <td>4</td>\n",
       "      <td>med</td>\n",
       "      <td>med</td>\n",
       "      <td>0</td>\n",
       "    </tr>\n",
       "    <tr>\n",
       "      <th>1724</th>\n",
       "      <td>high</td>\n",
       "      <td>low</td>\n",
       "      <td>3</td>\n",
       "      <td>4</td>\n",
       "      <td>med</td>\n",
       "      <td>high</td>\n",
       "      <td>1</td>\n",
       "    </tr>\n",
       "    <tr>\n",
       "      <th>1725</th>\n",
       "      <td>med</td>\n",
       "      <td>high</td>\n",
       "      <td>2</td>\n",
       "      <td>more</td>\n",
       "      <td>small</td>\n",
       "      <td>low</td>\n",
       "      <td>0</td>\n",
       "    </tr>\n",
       "    <tr>\n",
       "      <th>1726</th>\n",
       "      <td>vhigh</td>\n",
       "      <td>vhigh</td>\n",
       "      <td>3</td>\n",
       "      <td>4</td>\n",
       "      <td>med</td>\n",
       "      <td>low</td>\n",
       "      <td>0</td>\n",
       "    </tr>\n",
       "    <tr>\n",
       "      <th>1727</th>\n",
       "      <td>low</td>\n",
       "      <td>low</td>\n",
       "      <td>2</td>\n",
       "      <td>4</td>\n",
       "      <td>med</td>\n",
       "      <td>low</td>\n",
       "      <td>0</td>\n",
       "    </tr>\n",
       "  </tbody>\n",
       "</table>\n",
       "<p>1728 rows × 7 columns</p>\n",
       "</div>"
      ],
      "text/plain": [
       "     buying  maint dorrs persons lug_boot safety  Label\n",
       "0      high  vhigh     3       2    small   high      0\n",
       "1      high    med     3       2    small    low      0\n",
       "2     vhigh    low     2       4      big    low      0\n",
       "3       med   high     4       2      big    med      0\n",
       "4     vhigh    med     4       4      med   high      1\n",
       "...     ...    ...   ...     ...      ...    ...    ...\n",
       "1723   high    med     2       4      med    med      0\n",
       "1724   high    low     3       4      med   high      1\n",
       "1725    med   high     2    more    small    low      0\n",
       "1726  vhigh  vhigh     3       4      med    low      0\n",
       "1727    low    low     2       4      med    low      0\n",
       "\n",
       "[1728 rows x 7 columns]"
      ]
     },
     "execution_count": 4,
     "metadata": {},
     "output_type": "execute_result"
    }
   ],
   "source": [
    "import pandas as pd\n",
    "ds=pd.read_csv(\"lab2_dataset/car_train.csv\")\n",
    "ds"
   ]
  },
  {
   "cell_type": "code",
   "execution_count": 132,
   "metadata": {
    "ExecuteTime": {
     "end_time": "2020-09-21T09:21:46.638177Z",
     "start_time": "2020-09-21T09:21:46.631194Z"
    }
   },
   "outputs": [],
   "source": [
    "d={}\n",
    "for row in ds:\n",
    "   d[row]=list(ds[row])"
   ]
  },
  {
   "cell_type": "code",
   "execution_count": null,
   "metadata": {
    "ExecuteTime": {
     "end_time": "2020-09-21T00:50:42.619872Z",
     "start_time": "2020-09-21T00:50:42.323Z"
    }
   },
   "outputs": [],
   "source": [
    "for row in ds:\n",
    "    res = Counter(d[row])\n",
    "    print(res)"
   ]
  },
  {
   "cell_type": "code",
   "execution_count": 34,
   "metadata": {
    "ExecuteTime": {
     "end_time": "2020-09-21T01:24:14.479373Z",
     "start_time": "2020-09-21T01:24:14.475385Z"
    }
   },
   "outputs": [],
   "source": [
    "from collections import Counter\n",
    "# Counter([row[0] for row in my_data])"
   ]
  },
  {
   "cell_type": "code",
   "execution_count": 133,
   "metadata": {
    "ExecuteTime": {
     "end_time": "2020-09-21T09:21:53.715934Z",
     "start_time": "2020-09-21T09:21:53.711943Z"
    },
    "scrolled": true
   },
   "outputs": [],
   "source": [
    "ds1=ds.iloc[:11]"
   ]
  },
  {
   "cell_type": "code",
   "execution_count": 58,
   "metadata": {
    "ExecuteTime": {
     "end_time": "2020-09-21T01:35:24.092671Z",
     "start_time": "2020-09-21T01:35:24.088708Z"
    }
   },
   "outputs": [],
   "source": [
    "\n",
    "# Counter(currfeat.loc[0])"
   ]
  },
  {
   "cell_type": "code",
   "execution_count": 62,
   "metadata": {
    "ExecuteTime": {
     "end_time": "2020-09-21T01:38:36.875465Z",
     "start_time": "2020-09-21T01:38:36.866482Z"
    }
   },
   "outputs": [
    {
     "data": {
      "text/plain": [
       "Counter({'vhigh': 432, 'med': 432, 'low': 432, 'high': 432})"
      ]
     },
     "execution_count": 62,
     "metadata": {},
     "output_type": "execute_result"
    }
   ],
   "source": [
    "featCount"
   ]
  },
  {
   "cell_type": "code",
   "execution_count": 135,
   "metadata": {
    "ExecuteTime": {
     "end_time": "2020-09-21T09:22:55.106707Z",
     "start_time": "2020-09-21T09:22:55.098746Z"
    }
   },
   "outputs": [],
   "source": [
    "from math import log\n",
    "def rel_entropy(ds,feat):\n",
    "    currfeat=ds.loc[:,[feat,'Label']]\n",
    "    featCount=Counter(currfeat.iloc[:,0])\n",
    "    part_ent=0.0\n",
    "    ent=0.0\n",
    "    log2=lambda x:log(x)/log(2)\n",
    "    totalFeat=sum(featCount.values())\n",
    "#     print(featCount)\n",
    "    for feature in featCount:\n",
    "        proportion=featCount[feature]/totalFeat\n",
    "        LabelCnt=Counter(currfeat.loc[currfeat[feat]==feature]['Label'])\n",
    "        totalCnt=sum(LabelCnt.values())\n",
    "        for r in LabelCnt.keys():\n",
    "            p=float(LabelCnt[r])/totalCnt\n",
    "            part_ent=part_ent-p*log2(p)\n",
    "        ent+=part_ent*proportion\n",
    "#         print(\"{},{}:{}\".format(feature,part_ent,proportion))\n",
    "        part_ent=0\n",
    "    return ent"
   ]
  },
  {
   "cell_type": "code",
   "execution_count": 210,
   "metadata": {
    "ExecuteTime": {
     "end_time": "2020-09-21T14:13:45.118395Z",
     "start_time": "2020-09-21T14:13:45.112409Z"
    }
   },
   "outputs": [],
   "source": [
    "def entropy(dataSet):\n",
    "    ent=0.0\n",
    "    exentCnt=Counter(dataSet.loc[:,'Label'])\n",
    "    for res in exentCnt:\n",
    "        p=float(exentCnt[res])/dataSet.shape[0]\n",
    "        ent-=p*log2(p)\n",
    "    return ent"
   ]
  },
  {
   "cell_type": "code",
   "execution_count": 384,
   "metadata": {
    "ExecuteTime": {
     "end_time": "2020-09-21T16:00:05.171283Z",
     "start_time": "2020-09-21T16:00:05.166256Z"
    }
   },
   "outputs": [],
   "source": [
    "def GetBestFeature(dataSet):\n",
    "    maxEntGain=0.0\n",
    "    BestFeat=None\n",
    "    entGain=0.0\n",
    "    exEnt=entropy(dataSet)\n",
    "    for feat in dataSet.columns[:-1]:\n",
    "        entGain=exEnt-rel_entropy(dataSet,feat)\n",
    "        if(maxEntGain<entGain):            \n",
    "            maxEntGain=entGain\n",
    "            BestFeat=feat\n",
    "    return BestFeat"
   ]
  },
  {
   "cell_type": "code",
   "execution_count": 221,
   "metadata": {
    "ExecuteTime": {
     "end_time": "2020-09-21T14:20:00.837511Z",
     "start_time": "2020-09-21T14:20:00.789641Z"
    },
    "scrolled": true
   },
   "outputs": [
    {
     "name": "stdout",
     "output_type": "stream",
     "text": [
      "buying:0.8479082209552918\n",
      "maint:0.8528820777657283\n",
      "dorrs:0.8773369440051172\n",
      "persons:0.6616359471486423\n",
      "lug_boot:0.8684187940241201\n",
      "safety:0.6523788198898378\n"
     ]
    },
    {
     "data": {
      "text/plain": [
       "'safety'"
      ]
     },
     "execution_count": 221,
     "metadata": {},
     "output_type": "execute_result"
    }
   ],
   "source": [
    "GetBestFeature(ds)"
   ]
  },
  {
   "cell_type": "code",
   "execution_count": 335,
   "metadata": {
    "ExecuteTime": {
     "end_time": "2020-09-21T15:24:29.178918Z",
     "start_time": "2020-09-21T15:24:29.173974Z"
    }
   },
   "outputs": [],
   "source": [
    "class decisionnode:\n",
    "    def __init__(self,child,feature,result):\n",
    "        self.feature=feature\n",
    "        self.result=result\n",
    "        self.child=child"
   ]
  },
  {
   "cell_type": "code",
   "execution_count": 382,
   "metadata": {
    "ExecuteTime": {
     "end_time": "2020-09-21T15:59:13.316491Z",
     "start_time": "2020-09-21T15:59:13.308511Z"
    }
   },
   "outputs": [],
   "source": [
    "def CreateTree(dataSet,parent_res):\n",
    "    bestfeat=GetBestFeature(dataSet)\n",
    "    child={}\n",
    "# 数据集为空，等于上一步没有分\n",
    "    if dataSet.empty:\n",
    "        return decisionnode(result=parent_res,feature=None,child=None)\n",
    "    resList=dataSet.loc[:,'Label']\n",
    "    labelCnt=Counter(resList)\n",
    "    parent_res=max(labelCnt, key=labelCnt.get)\n",
    "# 只有一种结果，已完全分开\n",
    "    if len(labelCnt)==1:\n",
    "        return decisionnode(result=resList.values[0],feature=None,child=None)\n",
    "# 没有可以分的特征了\n",
    "    if dataSet.shape[1]==1:\n",
    "        return decisionnode(result=parent_res,feature=None,child=None)\n",
    "\n",
    "    for label in Counter(dataSet.loc[:,bestfeat]).keys():\n",
    "        child[label]=CreateTree(dataSet[dataSet[bestfeat]==label].drop(bestfeat,axis=1),parent_res)\n",
    "\n",
    "    return decisionnode(child=child,feature=bestfeat,result=parent_res)"
   ]
  },
  {
   "cell_type": "code",
   "execution_count": 236,
   "metadata": {
    "ExecuteTime": {
     "end_time": "2020-09-21T14:28:34.131030Z",
     "start_time": "2020-09-21T14:28:34.120053Z"
    }
   },
   "outputs": [],
   "source": [
    "results=[]\n",
    "for label in Counter(ds.loc[:,'buying']).keys():\n",
    "    results.append(ds[ds['buying']==label])"
   ]
  },
  {
   "cell_type": "code",
   "execution_count": 267,
   "metadata": {
    "ExecuteTime": {
     "end_time": "2020-09-21T15:00:19.321932Z",
     "start_time": "2020-09-21T15:00:19.312955Z"
    }
   },
   "outputs": [
    {
     "data": {
      "text/plain": [
       "7"
      ]
     },
     "execution_count": 267,
     "metadata": {},
     "output_type": "execute_result"
    }
   ],
   "source": [
    "dd=ds[ds['buying']=='high']\n",
    "dd.drop('buying',axis=1)\n",
    "dd.shape[1]"
   ]
  },
  {
   "cell_type": "code",
   "execution_count": 385,
   "metadata": {
    "ExecuteTime": {
     "end_time": "2020-09-21T16:00:08.417545Z",
     "start_time": "2020-09-21T16:00:07.113103Z"
    }
   },
   "outputs": [],
   "source": [
    "tree=CreateTree(ds,-1)"
   ]
  },
  {
   "cell_type": "code",
   "execution_count": 461,
   "metadata": {
    "ExecuteTime": {
     "end_time": "2020-09-21T16:30:34.973086Z",
     "start_time": "2020-09-21T16:30:34.968092Z"
    }
   },
   "outputs": [],
   "source": [
    "def classify(tree,target,featIndex):\n",
    "    if tree.child!=None:\n",
    "        print(tree.feature)\n",
    "        print(target[featIndex[tree.feature]])\n",
    "        return classify(tree.child[target[featIndex[tree.feature]]],target,featIndex)\n",
    "    else:\n",
    "        return tree.result"
   ]
  },
  {
   "cell_type": "code",
   "execution_count": 468,
   "metadata": {
    "ExecuteTime": {
     "end_time": "2020-09-21T16:36:37.476608Z",
     "start_time": "2020-09-21T16:36:37.457660Z"
    }
   },
   "outputs": [
    {
     "data": {
      "text/plain": [
       "['high', 'high', '2', 'more', 'small', 'high', '1']"
      ]
     },
     "execution_count": 468,
     "metadata": {},
     "output_type": "execute_result"
    }
   ],
   "source": [
    "import random as rd\n",
    "ts=pd.read_csv(\"lab2_dataset/test.csv\",header=None)\n",
    "target=[str(x) for x in list(ts.iloc[0])]\n",
    "featIndex={}\n",
    "i=0\n",
    "for feat in ds.columns:\n",
    "    featIndex[feat]=i\n",
    "    i+=1\n",
    "target"
   ]
  },
  {
   "cell_type": "code",
   "execution_count": 469,
   "metadata": {
    "ExecuteTime": {
     "end_time": "2020-09-21T16:36:41.339631Z",
     "start_time": "2020-09-21T16:36:41.331655Z"
    }
   },
   "outputs": [
    {
     "name": "stdout",
     "output_type": "stream",
     "text": [
      "safety\n",
      "high\n",
      "persons\n",
      "more\n",
      "buying\n",
      "high\n",
      "maint\n",
      "high\n",
      "dorrs\n",
      "2\n",
      "lug_boot\n",
      "small\n"
     ]
    },
    {
     "data": {
      "text/plain": [
       "0"
      ]
     },
     "execution_count": 469,
     "metadata": {},
     "output_type": "execute_result"
    }
   ],
   "source": [
    "classify(tree,target,featIndex)"
   ]
  },
  {
   "cell_type": "code",
   "execution_count": 456,
   "metadata": {
    "ExecuteTime": {
     "end_time": "2020-09-21T16:29:10.286591Z",
     "start_time": "2020-09-21T16:29:10.280606Z"
    }
   },
   "outputs": [
    {
     "data": {
      "text/plain": [
       "{'2': <__main__.decisionnode at 0x279564b9148>,\n",
       " '4': <__main__.decisionnode at 0x27956682548>,\n",
       " 'more': <__main__.decisionnode at 0x2795281f748>}"
      ]
     },
     "execution_count": 456,
     "metadata": {},
     "output_type": "execute_result"
    }
   ],
   "source": [
    "tree.child[target[featIndex[tree.feature]]].child"
   ]
  }
 ],
 "metadata": {
  "kernelspec": {
   "display_name": "Python 3.7.6 64-bit ('base': conda)",
   "language": "python",
   "name": "python37664bitbaseconda4695e5f7bc8c4dc3ac8217854788797a"
  },
  "language_info": {
   "codemirror_mode": {
    "name": "ipython",
    "version": 3
   },
   "file_extension": ".py",
   "mimetype": "text/x-python",
   "name": "python",
   "nbconvert_exporter": "python",
   "pygments_lexer": "ipython3",
   "version": "3.7.6"
  },
  "varInspector": {
   "cols": {
    "lenName": 16,
    "lenType": 16,
    "lenVar": 40
   },
   "kernels_config": {
    "python": {
     "delete_cmd_postfix": "",
     "delete_cmd_prefix": "del ",
     "library": "var_list.py",
     "varRefreshCmd": "print(var_dic_list())"
    },
    "r": {
     "delete_cmd_postfix": ") ",
     "delete_cmd_prefix": "rm(",
     "library": "var_list.r",
     "varRefreshCmd": "cat(var_dic_list()) "
    }
   },
   "types_to_exclude": [
    "module",
    "function",
    "builtin_function_or_method",
    "instance",
    "_Feature"
   ],
   "window_display": false
  }
 },
 "nbformat": 4,
 "nbformat_minor": 4
}
